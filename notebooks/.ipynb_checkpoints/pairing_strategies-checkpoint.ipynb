{
 "cells": [
  {
   "cell_type": "code",
   "execution_count": 33,
   "id": "a567e173",
   "metadata": {},
   "outputs": [],
   "source": [
    "import pandas as pd\n",
    "import numpy as np\n",
    "import json\n",
    "import spacy\n",
    "from tqdm import tqdm\n",
    "from transformers import AutoModel, AutoTokenizer"
   ]
  },
  {
   "cell_type": "code",
   "execution_count": 34,
   "id": "e07b8634",
   "metadata": {},
   "outputs": [
    {
     "data": {
      "text/html": [
       "<div>\n",
       "<style scoped>\n",
       "    .dataframe tbody tr th:only-of-type {\n",
       "        vertical-align: middle;\n",
       "    }\n",
       "\n",
       "    .dataframe tbody tr th {\n",
       "        vertical-align: top;\n",
       "    }\n",
       "\n",
       "    .dataframe thead th {\n",
       "        text-align: right;\n",
       "    }\n",
       "</style>\n",
       "<table border=\"1\" class=\"dataframe\">\n",
       "  <thead>\n",
       "    <tr style=\"text-align: right;\">\n",
       "      <th></th>\n",
       "      <th>id</th>\n",
       "      <th>title</th>\n",
       "      <th>body</th>\n",
       "      <th>portal</th>\n",
       "      <th>date_published</th>\n",
       "      <th>features_qids</th>\n",
       "    </tr>\n",
       "  </thead>\n",
       "  <tbody>\n",
       "    <tr>\n",
       "      <th>0</th>\n",
       "      <td>11500787</td>\n",
       "      <td>Stali tramvaji, pa uskočili autobusi</td>\n",
       "      <td>Električni problemi zaustavili su u utorak neš...</td>\n",
       "      <td>glas-slavonije.hr</td>\n",
       "      <td>2023-03-21 00:00:00</td>\n",
       "      <td>{188878,2717994,13056097}</td>\n",
       "    </tr>\n",
       "    <tr>\n",
       "      <th>1</th>\n",
       "      <td>11499598</td>\n",
       "      <td>Šetalište Jean-Paula Belmonda</td>\n",
       "      <td>Most Bir-Hakeim, koji je poznat po željeznim s...</td>\n",
       "      <td>glas-slavonije.hr</td>\n",
       "      <td>2023-03-21 00:00:00</td>\n",
       "      <td>{243,290355,842778,71567030,109886181}</td>\n",
       "    </tr>\n",
       "    <tr>\n",
       "      <th>2</th>\n",
       "      <td>11499594</td>\n",
       "      <td>U Njemačkoj sve više punionica</td>\n",
       "      <td>Njemačka je u 2022. povećala broj javnih punio...</td>\n",
       "      <td>glas-slavonije.hr</td>\n",
       "      <td>2023-03-21 00:00:00</td>\n",
       "      <td>{183,1009022,20823045}</td>\n",
       "    </tr>\n",
       "    <tr>\n",
       "      <th>3</th>\n",
       "      <td>11499593</td>\n",
       "      <td>Aramco, Geely i Renault žele novu tvrtku</td>\n",
       "      <td>Aramco, globalna energetsko-kemijska tvrtka, p...</td>\n",
       "      <td>glas-slavonije.hr</td>\n",
       "      <td>2023-03-21 00:00:00</td>\n",
       "      <td>{3264974,7427119,18816188,55118127}</td>\n",
       "    </tr>\n",
       "    <tr>\n",
       "      <th>4</th>\n",
       "      <td>11499592</td>\n",
       "      <td>Nevezivanje pojasa i dalje je veliki sigurnosn...</td>\n",
       "      <td>Istraživanje o korištenju sigurnosnog pojasa k...</td>\n",
       "      <td>glas-slavonije.hr</td>\n",
       "      <td>2023-03-21 00:00:00</td>\n",
       "      <td>{}</td>\n",
       "    </tr>\n",
       "  </tbody>\n",
       "</table>\n",
       "</div>"
      ],
      "text/plain": [
       "         id                                              title  \\\n",
       "0  11500787               Stali tramvaji, pa uskočili autobusi   \n",
       "1  11499598                      Šetalište Jean-Paula Belmonda   \n",
       "2  11499594                     U Njemačkoj sve više punionica   \n",
       "3  11499593           Aramco, Geely i Renault žele novu tvrtku   \n",
       "4  11499592  Nevezivanje pojasa i dalje je veliki sigurnosn...   \n",
       "\n",
       "                                                body             portal  \\\n",
       "0  Električni problemi zaustavili su u utorak neš...  glas-slavonije.hr   \n",
       "1  Most Bir-Hakeim, koji je poznat po željeznim s...  glas-slavonije.hr   \n",
       "2  Njemačka je u 2022. povećala broj javnih punio...  glas-slavonije.hr   \n",
       "3  Aramco, globalna energetsko-kemijska tvrtka, p...  glas-slavonije.hr   \n",
       "4  Istraživanje o korištenju sigurnosnog pojasa k...  glas-slavonije.hr   \n",
       "\n",
       "        date_published                           features_qids  \n",
       "0  2023-03-21 00:00:00               {188878,2717994,13056097}  \n",
       "1  2023-03-21 00:00:00  {243,290355,842778,71567030,109886181}  \n",
       "2  2023-03-21 00:00:00                  {183,1009022,20823045}  \n",
       "3  2023-03-21 00:00:00     {3264974,7427119,18816188,55118127}  \n",
       "4  2023-03-21 00:00:00                                      {}  "
      ]
     },
     "execution_count": 34,
     "metadata": {},
     "output_type": "execute_result"
    }
   ],
   "source": [
    "pd.reset_option('^display.', silent=True)\n",
    "df = pd.read_csv(\"../data/textual_similarity_recent.csv\")\n",
    "df.head()"
   ]
  },
  {
   "cell_type": "code",
   "execution_count": 35,
   "id": "859db428",
   "metadata": {},
   "outputs": [
    {
     "data": {
      "text/plain": [
       "(29625, 6)"
      ]
     },
     "execution_count": 35,
     "metadata": {},
     "output_type": "execute_result"
    }
   ],
   "source": [
    "df.drop_duplicates(subset=\"body\", keep=\"first\", inplace=True)\n",
    "df.shape"
   ]
  },
  {
   "cell_type": "markdown",
   "id": "e9559840",
   "metadata": {},
   "source": [
    "## Jaccard coefficient using named entities"
   ]
  },
  {
   "cell_type": "code",
   "execution_count": 36,
   "id": "d3565bcc",
   "metadata": {},
   "outputs": [],
   "source": [
    "df[\"qids_set\"] = df[\"features_qids\"].apply(\n",
    "    lambda x: set(int(i) for i in x[1:-1].split(\",\") if i != '')\n",
    ")"
   ]
  },
  {
   "cell_type": "code",
   "execution_count": 37,
   "id": "91ca9975",
   "metadata": {},
   "outputs": [
    {
     "data": {
      "text/html": [
       "<div>\n",
       "<style scoped>\n",
       "    .dataframe tbody tr th:only-of-type {\n",
       "        vertical-align: middle;\n",
       "    }\n",
       "\n",
       "    .dataframe tbody tr th {\n",
       "        vertical-align: top;\n",
       "    }\n",
       "\n",
       "    .dataframe thead th {\n",
       "        text-align: right;\n",
       "    }\n",
       "</style>\n",
       "<table border=\"1\" class=\"dataframe\">\n",
       "  <thead>\n",
       "    <tr style=\"text-align: right;\">\n",
       "      <th></th>\n",
       "      <th>qids_set</th>\n",
       "    </tr>\n",
       "  </thead>\n",
       "  <tbody>\n",
       "    <tr>\n",
       "      <th>0</th>\n",
       "      <td>{13056097, 2717994, 188878}</td>\n",
       "    </tr>\n",
       "    <tr>\n",
       "      <th>1</th>\n",
       "      <td>{109886181, 290355, 243, 71567030, 842778}</td>\n",
       "    </tr>\n",
       "    <tr>\n",
       "      <th>2</th>\n",
       "      <td>{20823045, 1009022, 183}</td>\n",
       "    </tr>\n",
       "    <tr>\n",
       "      <th>3</th>\n",
       "      <td>{18816188, 55118127, 3264974, 7427119}</td>\n",
       "    </tr>\n",
       "    <tr>\n",
       "      <th>4</th>\n",
       "      <td>{}</td>\n",
       "    </tr>\n",
       "  </tbody>\n",
       "</table>\n",
       "</div>"
      ],
      "text/plain": [
       "                                     qids_set\n",
       "0                 {13056097, 2717994, 188878}\n",
       "1  {109886181, 290355, 243, 71567030, 842778}\n",
       "2                    {20823045, 1009022, 183}\n",
       "3      {18816188, 55118127, 3264974, 7427119}\n",
       "4                                          {}"
      ]
     },
     "execution_count": 37,
     "metadata": {},
     "output_type": "execute_result"
    }
   ],
   "source": [
    "df[[\"qids_set\"]].head()"
   ]
  },
  {
   "cell_type": "code",
   "execution_count": 38,
   "id": "32f902a0",
   "metadata": {},
   "outputs": [
    {
     "data": {
      "text/plain": [
       "id                                                         11499555\n",
       "title                                   Milijardu eura zbog potresa\n",
       "body              Europska komisija dat će milijardu eura pomoći...\n",
       "portal                                            glas-slavonije.hr\n",
       "date_published                                  2023-03-21 00:00:00\n",
       "features_qids                                    {43,108594,207118}\n",
       "qids_set                                       {108594, 43, 207118}\n",
       "Name: 20, dtype: object"
      ]
     },
     "execution_count": 38,
     "metadata": {},
     "output_type": "execute_result"
    }
   ],
   "source": [
    "df.iloc[20]"
   ]
  },
  {
   "cell_type": "code",
   "execution_count": 39,
   "id": "885d9b06",
   "metadata": {},
   "outputs": [],
   "source": [
    "#for ind, i in tqdm(df.iterrows()):\n",
    "#    if len(i[\"body\"]) < 300:\n",
    "#        print(ind)"
   ]
  },
  {
   "cell_type": "code",
   "execution_count": 40,
   "id": "2fb79799",
   "metadata": {},
   "outputs": [
    {
     "data": {
      "text/plain": [
       "{43, 108594, 207118}"
      ]
     },
     "execution_count": 40,
     "metadata": {},
     "output_type": "execute_result"
    }
   ],
   "source": [
    "set_l = df[[\"qids_set\"]].iloc[20].tolist()[0]\n",
    "set_l"
   ]
  },
  {
   "cell_type": "code",
   "execution_count": 41,
   "id": "fae6936b",
   "metadata": {},
   "outputs": [],
   "source": [
    "df[\"sim1\"] = df[\"qids_set\"].apply(\n",
    "    lambda x: len(x.intersection(set_l))/len(x.union(set_l))\n",
    ")"
   ]
  },
  {
   "cell_type": "code",
   "execution_count": 42,
   "id": "783221fe",
   "metadata": {
    "scrolled": false
   },
   "outputs": [
    {
     "data": {
      "text/html": [
       "<div>\n",
       "<style scoped>\n",
       "    .dataframe tbody tr th:only-of-type {\n",
       "        vertical-align: middle;\n",
       "    }\n",
       "\n",
       "    .dataframe tbody tr th {\n",
       "        vertical-align: top;\n",
       "    }\n",
       "\n",
       "    .dataframe thead th {\n",
       "        text-align: right;\n",
       "    }\n",
       "</style>\n",
       "<table border=\"1\" class=\"dataframe\">\n",
       "  <thead>\n",
       "    <tr style=\"text-align: right;\">\n",
       "      <th></th>\n",
       "      <th>title</th>\n",
       "      <th>body</th>\n",
       "    </tr>\n",
       "  </thead>\n",
       "  <tbody>\n",
       "    <tr>\n",
       "      <th>20</th>\n",
       "      <td>Milijardu eura zbog potresa</td>\n",
       "      <td>Europska komisija dat će milijardu eura pomoći potresom pogođenoj Turskoj, rekla je u ponedjeljak predsjednica tog tijela Ursula von der Leyen na početku međunarodne donorske konferencije. Von der Leyen je o potresu, koji je odnio gotovo 50 tisuća života u Turskoj i Siriji, govorila kao o najvećoj prirodnoj katastrofi koja je pogodila regiju u posljednjih nekoliko godina. “Kuće, škole i bolnice moraju se ponovno izgraditi, uz najviše standarde sigurnosti od potresa. Voda, kanalizacija i druga ključna infrastruktura moraju se popraviti”, poručila je. Europska komisija dat će dodatnih 108 milijuna eura za humanitarnu pomoć i oporavak Sirije. H</td>\n",
       "    </tr>\n",
       "    <tr>\n",
       "      <th>9569</th>\n",
       "      <td>Iz zgrade koja se srušila nakon niza potresa spasioci izvukli nekoliko ozlijeđenih</td>\n",
       "      <td>Spasilačke službe u nedjelju su izvukle nekoliko ozlijeđenih osoba iz šesterokatnice u turskome gradu Sanliurfe, koja se srušila nakon oštećenja nastalih na njoj u razornim potresima 6. veljače, piše novinska agencija Anadolija.\\nNakon prva dva razorna potresa magnitude 7,7 i 7,6 koji su prije mjesec dana pogodili jugoistočnu Tursku i sjevernu Siriju, uslijedio je niz naknadnih potresa.\\nŠesterokatnica u Sanliurfi je oštećena nakon prva dva snažna potresa, no tada se nije srušila. Niz naknadnih potresa utjecao je na statiku zgrade koja se na kraju ipak srušila.\\nAgencija prenosi da su zaposlenici hitne pomoći pozvali sve prisutne u blizini da utihnu kako bi uspjeli čuti zvukove koji su dolazili ispod ruševina.\\nFotografije snimljene sigurnosnom kamerom pokazale su na koji se način zgrada srušila na prometnu cestu.\\nU Turskoj je nakon potresa ostalo gotovo dva milijuna beskućnika. Mnogi su smješteni u šatorske kampove, no dio ljudi se počeo vraćati u svoje oštećene domove.</td>\n",
       "    </tr>\n",
       "    <tr>\n",
       "      <th>4684</th>\n",
       "      <td>Iz ruševina zgrade u Turskoj, koja se srušila nakon niza potresa, spasili su više ljudi</td>\n",
       "      <td>Šesterokatnica u Sanliurfi je oštećena nakon prva dva snažna potresa, no tada se nije srušila. Niz naknadnih potresa utjecao je na statiku zgrade koja se na kraju ipak srušila.\\nSpasilačke službe u nedjelju su izvukle nekoliko ozlijeđenih osoba iz šesterokatnice u turskome gradu Sanliurfe, koja se srušila nakon oštećenja nastalih na njoj u razornim potresima 6. veljače, piše novinska agencija Anadolija.\\nNakon prva dva razorna potresa magnitude 7,7 i 7,6 koji su prije mjesec dana pogodili jugoistočnu Tursku i sjevernu Siriju, uslijedio je niz naknadnih potresa.\\nŠesterokatnica u Sanliurfi je oštećena nakon prva dva snažna potresa, no tada se nije srušila. Niz naknadnih potresa utjecao je na statiku zgrade koja se na kraju ipak srušila.\\nAgencija prenosi da su zaposlenici hitne pomoći pozvali sve prisutne u blizini da utihnu kako bi uspjeli čuti zvukove koji su dolazili ispod ruševina.\\nFotografije snimljene sigurnosnom kamerom pokazale su na koji se način zgrada srušila na prometnu cestu.\\nU Turskoj je nakon potresa ostalo gotovo dva milijuna beskućnika. Mnogi su smješteni u šatorske kampove, no dio ljudi se počeo vraćati u svoje oštećene domove.</td>\n",
       "    </tr>\n",
       "    <tr>\n",
       "      <th>27938</th>\n",
       "      <td>Ovo je pravo čudo: čak 21 dan nakon razornog potresa u Turskoj, iz ruševina je spašen - živ i zdrav konj</td>\n",
       "      <td>Od razornog potresa koji je pogodio Tursku i Siriju prošao je već 21 dan, no vijesti o čudesnim spašavanjima još pristižu.\\nToliko vrijeme pod ruševinama ne bi mogao preživjeti niti jedan čovjek, no preživio je jedan - konj.\\nTursko ministarstvo poljoprivrede i šumarstva objavilo je video iz grada Adıyaman gdje je konj izvučen iz ruševina.\\nUz malu pomoć, konj se sam uspeo na čvrto tlo i odmah je odveden veterinaru koji je ustanovio da nema teže ozljede.\\nSretni konj je nakon toga vraćen vlasniku.</td>\n",
       "    </tr>\n",
       "    <tr>\n",
       "      <th>20267</th>\n",
       "      <td>Europska komisija: Dajemo milijardu eura Turskoj za pomoć nakon potresa</td>\n",
       "      <td>OBJAVILA VON DER LEYEN\\nEuropska komisija: Dajemo milijardu eura Turskoj za pomoć nakon potresa\\nEuropska komisija dat će milijardu eura pomoći potresom pogođenoj Turskoj, rekla je u ponedjeljak predsjednica tog tijela Ursula von der Leyen na početku međunarodne donorske konferencije.\\nVon der Leyen je o potresu, koji je odnio gotovo 50 tisuća života u Turskoj i Siriji, govorila kao o najvećoj prirodnoj katastrofi koja je pogodila regiju u posljednjih nekoliko godina. \"Milijuni su sada bez doma i po zimi žive u šatorima\", rekla je na početku konferencije.\\n\"Moramo se mobilizirati za obnovu. Kuće, škole i bolnice moraju se ponovno izgraditi, uz najviše standarde sigurnosti od potresa. Voda, kanalizacija i druga ključna infrastruktura moraju se popraviti. Javne službe i poduzeća trebaju kapital za ponovni rad, kako bi ljudi mogli zaraditi za život\", poručila je.\\nVon der Leyen je rekla da će Komisija dati dodatnih 108 milijuna eura za humanitarnu pomoć i oporavak Sirije. Europska unija ne održava diplomatske veze s predsjednikom te zemlje Bašarom al-Asadom od rata koji je krenuo 2011. godine.\\nProgram Ujedinjenih naroda za razvoj (UNDP) procjenjuje da \"ukupni financijski teret potresa\" za Tursku iznosi oko 103,6 milijardi dolara, što je devet posto predviđenog BDP-a te zemlje za 2023. godinu.\\nMinistar vanjskih i europskih poslova Gordan Grlić Radman ranije je rekao da će Hrvatska na konferenciji najaviti novu pomoć dvjema državama, čime će ukupno ona iznositi pet milijuna eura za Tursku i 400 tisuća eura za Siriju.</td>\n",
       "    </tr>\n",
       "    <tr>\n",
       "      <th>7197</th>\n",
       "      <td>\"Milijuni ljudi su bez doma\": Europska komisija daje milijardu eura Turskoj za pomoć nakon potresa - Novi list</td>\n",
       "      <td>REUTERS\\nEuropska komisija dat će milijardu eura pomoći potresom pogođenoj Turskoj, rekla je u ponedjeljak predsjednica tog tijela Ursula von der Leyen na početku međunarodne donorske konferencije.\\nVon der Leyen je o potresu, koji je odnio gotovo 50 tisuća života u Turskoj i Siriji, govorila kao o najvećoj prirodnoj katastrofi koja je pogodila regiju u posljednjih nekoliko godina.\\n„Milijuni su sada bez doma i po zimi žive u šatorima“, rekla je na početku konferencije.\\n“Moramo se mobilizirati za obnovu. Kuće, škole i bolnice moraju se ponovno izgraditi, uz najviše standarde sigurnosti od potresa. Voda, kanalizacija i druga ključna infrastruktura moraju se popraviti. Javne službe i poduzeća trebaju kapital za ponovni rad , kako bi ljudi mogli zaraditi za život”, poručila je.\\nVon der Leyen je rekla da će Komisija dati dodatnih 108 milijuna eura za humanitarnu pomoć i oporavak Sirije. Europska unija ne održava diplomatske veze s predsjednikom te zemlje Bašarom al-Asadom od rata koji je krenuo 2011. godine.\\nProgram Ujedinjenih naroda za razvoj (UNDP) procjenjuje da “ukupni financijski teret potresa” za Tursku iznosi oko 103,6 milijardi dolara , što je 9 posto predviđenog BDP-a te zemlje za 2023. godinu.\\nMinistar vanjskih i europskih poslova Gordan Grlić Radman ranije je rekao da će Hrvatska na konferenciji najaviti novu pomoć dvjema državama, čime će ukupno ona iznositi 5 milijuna eura za Tursku i 400 tisuća eura za Siriju.</td>\n",
       "    </tr>\n",
       "    <tr>\n",
       "      <th>14633</th>\n",
       "      <td>Broj poginulih u zemljotresima u Turskoj veći od 50.000</td>\n",
       "      <td>Broj poginulih u razornim zemljotresima koji su prošlog mjeseca pogodili jug Turske povećan je na 50.096, potvrđeno je iz Uprave za vanredne situacije (AFAD).\\nPredsjednik AFAD-a Yunus Sezer rekao je da su povrijeđene 107.204 osobe.\\nDva razorna zemljotresa jačine 7,7 i 7,6 stepeni po Rihteru 6. februara pogodila su južne dijelove Turske sa epicentrom u Kahramanmarašu.\\nViše od 13,5 miliona ljudi u Turskoj pogođeno je razornim zemljotresima, kao i mnogi drugi na sjeveru Sirije.</td>\n",
       "    </tr>\n",
       "    <tr>\n",
       "      <th>28394</th>\n",
       "      <td>Erdoganova predizborna kampanja: Uhitio desetke građevinara i poduzetnika! Oporba bijesna: ‘Za sve je on kriv...‘</td>\n",
       "      <td>Turski ministar pravosuđa Bekir Bozdak u subotu je izvijestio kako su 184 osobe, mahom građevinski poduzetnici i investitori, uhićeni zbog sumnje da nisu poštivali građevinske propise nego su gradiliu zgrade bez adekvatne protupotresne zaštite koje su se srušile u Turskoj nakon potresa magnitude 7,8 po Richteru, javlja BBC.\\nU Turskoj se srušilo ili je teško oštećeno više od 16 tisuća zgrada, a poginulo je, ako se uračunaju podaci iz susjedne Sirije, više od 50 tisuća ljudi.\\nKako pišu turski mediji, među uhićenima je i gradonačelnik jednog turskog grada u blizini epicentra, a ministar pravosuđa Bozdak komentirao je i kako se istraga proširila. Još prije dva tjedna na turskim tjeralicama je završilo 113 osoba koje se terete za nemarnu gradnju, a sada se procjenjuje kako se istražuje 600-ak osoba.\\nUsusret predsjedničkih i parlamentarnih izbora u Turskoj, koji bi mogli biti izrazito neizvjesni, oporba optužuje predsjednika države Recepa Tayyipa Erdogana da njegova vlada ne provodi građevinske propise čime ga pokušavaju okriviti za smrt velikog broja sugrađana.\\nOproba ističe kako vlada nije sankcionirala građevinare koji su otkriveni u kršenju propisa jer je željela potaknuti ubrzani građevinski razvoj države.\\nPodsjećamo da će se izbori u Turskoj održati 14. svibnja.</td>\n",
       "    </tr>\n",
       "    <tr>\n",
       "      <th>3814</th>\n",
       "      <td>10. međunarodni sajam turizma Place2Go</td>\n",
       "      <td>Video sadržaj ceste pretvorene u rijeke Tursku pogodile bujične poplave: Najmanje desetero ljudi poginulo</td>\n",
       "    </tr>\n",
       "    <tr>\n",
       "      <th>3094</th>\n",
       "      <td>Solidarnost sa ženama i djevojkama u Turske i Siriji: U BiH do kraja mjeseca akcija prikupljanja higijenskih paketa</td>\n",
       "      <td>Crveni križ Federacije Bosne i Hercegovine početkom marta pokrenuo je kampanju “Niste same” za žene i djevojke u Turskoj i Siriji.\\nCilj je prikupiti što više osnovnih higijenskih paketa za žene i djevojke koje su ostale bez svojih domova nakon razornih zemljotresa početkom februara, te im bar na kratko izmamiti osmijeh i ublažiti patnju.\\nSet bi trebao sadržavati: sapun, šampon, gel za tuširanje, vlažne maramice, uloške, četkicu i pastu za zube, dezedorans u stiku, labelo, noktaricu i štapiće za uši.\\n\"Akcija je pokrenuta početkom marta, a traje cijeli mjesec. Cilj je prikupiti što više higijenskih paketa koji će se kasnije distribuirati ženama i djevojkama u Turskoj i Siriji. Ono što možemo da uradimo jeste da zapakujemo paketić koji u prosjeku košta oko 25 konvertibilnih maraka. Paket treba da sadrži sapun, šampon, gel za tuširanje, vlažne maramice, kremu za ruke i tijelo, štapiće za uši...Dakle, neke osnovne stvari koje su svakodnevno potrebne ženama”, kazala je Indira Kriještorac, glasnogovornica Crvenog križa Federacije BiH.\\nNaglasila je da je potrebno da svi proizvodi budu zapakovani u kutiju, koja se ukrašava na neki način.</td>\n",
       "    </tr>\n",
       "    <tr>\n",
       "      <th>18563</th>\n",
       "      <td>Pomoć nakon potresa: Europska komisija Turskoj daje milijardu eura</td>\n",
       "      <td>ursula von der leyen\\nPomoć nakon potresa: Europska komisija Turskoj daje milijardu eura\\nIzvor: Profimedia / Autor: Selami Kucukoglu / AFP / Profimedia\\nVon der Leyen je o potresu, koji je odnio gotovo 50 tisuća života u Turskoj i Siriji, govorila kao o najvećoj prirodnoj katastrofi koja je pogodila regiju u posljednjih nekoliko godina.\\n„Milijuni su sada bez doma i po zimi žive u šatorima“, rekla je na početku konferencije.\\n-\\n39\\nsanacija nakon potresa\\nHrvatska u Tursku šalje pet milijuna eura pomoći, u Siriju odlazi 400 tisuća\\n-\\n39\\njugoistok zemlje\\nNova katastrofa u Turskoj: Nakon razornih potresa zemlju pogodile poplave, poginuli deseci ljudi\\n-\\n9\\nhatay\\n[VIDEO] Obilne kiše poplavile šatore u kojima žive žrtve potresa u Turskoj\\n\"Moramo se mobilizirati za obnovu. Kuće, škole i bolnice moraju se ponovno izgraditi, uz najviše standarde sigurnosti od potresa. Voda, kanalizacija i druga ključna infrastruktura moraju se popraviti. Javne službe i poduzeća trebaju kapital za ponovni rad , kako bi ljudi mogli zaraditi za život\", poručila je.\\nVon der Leyen je rekla da će Komisija dati dodatnih 108 milijuna eura za humanitarnu pomoć i oporavak Sirije. Europska unija ne održava diplomatske veze s predsjednikom te zemlje Bašarom al-Asadom od rata koji je krenuo 2011. godine.\\nProgram Ujedinjenih naroda za razvoj (UNDP) procjenjuje da \"ukupni financijski teret potresa\" za Tursku iznosi oko 103,6 milijardi dolara , što je 9 posto predviđenog BDP-a te zemlje za 2023. godinu.\\nMinistar vanjskih i europskih poslova Gordan Grlić Radman ranije je rekao da će Hrvatska na konferenciji najaviti novu pomoć dvjema državama, čime će ukupno ona iznositi 5 milijuna eura za Tursku i 400 tisuća eura za Siriju.</td>\n",
       "    </tr>\n",
       "    <tr>\n",
       "      <th>12066</th>\n",
       "      <td>Jeste li čuli za pide? Nazivaju ga turskom pizzom, nevjerojatno je ukusan: uvjerite se, ove kombinacije su genijalne!</td>\n",
       "      <td>Specijaliteti turske kuhinje stoljećima su prisutni na našim prostorima, a zahvaljujući popularnosti turskih sapunica, posljednjih su nam godina postala bliža čak i ona jela koja se za osmanske okupacije kod nas nisu udomaćila. No jeste li čuli za pide? Mnogi nisu, premda je riječ o jako popularnom jelu, čak i izvan granica Turske. Ponekad se naziva i turskom pizzom, unatoč zamjetnim razlikama.\\nPonajprije, tu je oblik, zbog kojeg je pide izvana hrskav, a iznutra sočan jer za razliku od plosnate pizze, može podnijeti daleko više nadjeva. Po pitanju nadjeva uobičajene su različite vrste sira, mesa i povrća, a kad govorimo o kombinacijama, omiljene su one koje uključuju mladi sir i začinsko bilje ili pak špinat i luk, zatim one s turskom kobasicom srodnom našem sudžuku i mrvljenim slanim sirom, pa one s mljevenom janjetinom, češnjakom i ljutim začinima te spoj umaka od rajčice i pečenog patlidžana. Sve nam to zvuči baš dobro, neće se biti lako odlučiti...\\nPide s gljivama, fetom i kobasicom\\nSastojci\\n300 g brašna\\n250 ml tople vode\\n2 žličice instant kvasca\\n1 žličica granuliranog šećera\\n1 žličica morske soli ili košer soli\\n2-3 žlice maslinovog ulja\\n1 glavica luka\\n4 češnja češnjaka\\n200 g gljiva\\n200 g špinata\\n150 g feta sira\\n50 g sudžuka\\n1 crvena paprika\\nsol, papar\\nPriprema:\\nPomiješajte instant kvasac, šećer i toplu vodu. Ostavite na toplom mjestu da naraste pa dodajte brašnu pomiješanom sa soli. Izradite smjesu u ljepljivo tijesto pa ga ostavite na toplom dok se ne udvostruči.\\nZa nadjev zagrijte 1 žlicu maslinovog ulja, dodajte usitnjeni luk, češnjak, narezanu papriku i gljive. Pirjajte 10 minuta na srednjoj vatri, ugasite vatru i dodajte špinat, izmrvljeni feta sir i te sol i papar. Pustite da se ohladi.\\nNakon što se tijesto diglo, premijesite ga, oblikujte glatku kuglu i podijelite je na dva dijela te od svakog napravite kuglicu. Na lagano pobrašnjenoj površini razvucite kuglice tijesta u 2 ovalna oblika. Budite strpljivi jer tijesto je elastično pa će se vraćati u prethodni oblik.\\nZagrijte pećnicu na 200 stupnjeva Celzija i obložite dva lima za pečenje papirom za pečenje.\\nStavite prvi oval na pripremljeni lim za pečenje pa mu po sredini rasporedite polovicu nadjeva, ostavljajući rub od oko 2 i pol centimetra. Presavijte strane prema nadjevu da djeluju kao obrub pa stisnite na svakon kraju da postanu šiljasti. Po vrhu nadjeva poslažite narezani sudžuk, rubove premažite maslinovim uljem i ubacite pide u zagrijanu pećnicu. Pecite 25 minuta do pola sata.\\nPonovite s preostalim tijestom i nadjevom</td>\n",
       "    </tr>\n",
       "    <tr>\n",
       "      <th>2885</th>\n",
       "      <td>Drugi konvoj Crvenog križa Federacije BiH danas otputovao za Tursku</td>\n",
       "      <td>Drugi konvoj Crvenog križa Federacije BiH danas je otputovao za Tursku s robom za uspostavljanje kampova za prihvat osoba koje su ostale bez svojih domova.\\nDonacija u vrijednosti od 510.000 KM sadrži 33 stambena kontejnera i 8 montažnih kućica, šatore, električne grijalice, agregate, rasklopive krevete i stolice, vreće za spavanje, higijenske pakete i druge prioritetne stvari koje je struktura Crvenog križa, zajedno sa građanima sakupljala na osnovu potreba Turskog Crvenog polumjeseca.\\nPrvi konvoj\\nPodsjetimo, sredinom prošlog mjeseca otišao je prvi konvoj Crvenog križa FBiH u vrijednosti od 500.000 KM.\\n\"Kao i prethodni put posjetit ćemo regiju Hataj, koju su zahvatili zemljotresi i tom prilikom ćemo se ponovo sastati sa nešim kolegama iz Turskog Crvenog polumjeseca. Namjeravamo poslati i treći konvoj humanitarne pomoći i upravo je to jedan od razloga zbog čega u Tursku ovaj put putuje visoka delegacija Crvenog križa. Neophodno je utvrditi dalje korake kako bi se na što bolji način radilo na ublažavanju patnji naroda koji je preživio razorne zemljotrese\" - istakao je generalni sekretar Crvenog križa Federacije BiH Namik Hodžić.\\nDelegaciju Crvenog križa čine predsjednik i generalni sekretar Crvenog križa FBiH Husein Kličić i Namik Hodžić, sekretar Crvenog križa općine Kalesija Safet Šahmanović, a pridružit će im se i načelnik Općine Kalesija Sead Džafić.\\nProvođenje kampanje\\nPodsjećamo, tokom mjeseca marta provodi se i kampanja „Niste same za žene i djevojke u Turskoj i Siriji“, čiji je cilj prikupiti što više higijenskih paketa. Paket podrške može se ostaviti u svim lokalnim organizacijama Crvenog križa širom Federacije BiH.\\nTakođer, Crveni križ u Bosni i Hercegovini od samog početka pokrenuo je humanitarni broj 17023 putem kojeg se mogu donirati 2 KM za stanovnitšvo ugroženo usljed zemljotresa u Turskoj i Siriji, te otvorio namjenski žiro račun 1340011130004680 kod ASA Banke d.d. Sarajevo, Fra Anđela Zvizdovića 1/A 71000 Sarajevo za uplate donacija (primalac Društvo Crvenog krsta/križa BiH, Kranjčevićeva 2, 71000 Sarajevo). Od početka akcije, putem žiro-računa i humanitarnog broja do sada je prikupljeno oko 500.000 KM.\\nAkcije Crvenog križa nastavljaju se i u narednom periodu kako bi pomoć ugroženom stanovništvu Turske i Sirije</td>\n",
       "    </tr>\n",
       "    <tr>\n",
       "      <th>3071</th>\n",
       "      <td>Zemljotres jačine 4,8 stepeni pogodio sjever Turske</td>\n",
       "      <td>Zemljotres jačine 4,8 stepeni po Richteru pogodio je Bolu, pokrajinu na sjeverozapadu Turske.\\nPrema podacima Evropsko-mediteranskog seizmološkog centra (EMSC), zemljotres je zabilježen 300 km od Bolua. Zemljotres je registrovan u 13.55 sati po lokalnom vremenu.\\nZabilježen je na dubini od 8,13 kilometara. Jedna osnovna škola u Kaynasliju preventivno je evakuisana. Za sada nije poznato ima li stradalih osoba, niti urušenih objekata.\\nPodsjećamo, prije mjesec dana jugozapadni dio Turske i Sirije pogodila je serija razornih zemljotresa u kojima je stradalo desetine hiljada ljudi.</td>\n",
       "    </tr>\n",
       "    <tr>\n",
       "      <th>28185</th>\n",
       "      <td>Svjetska banka procijenila štetu od zemljotresa u Turskoj na 34 milijarde dolara</td>\n",
       "      <td>Svjetska banka procijenila je štetu od zemljotresa u Turskoj na 34 milijarde dolara.\\nPodsjećamo, broj poginulih od posljedica razornih zemljotresa koji su Tursku pogodili početkom mjeseca veći je od 44.000.\\nViše od 230.000 ljudi trenutno radi na terenu.\\nNadležni timovi su postavili blizu 335.400 šatora koje su poslala ministarstva i nadležne institucije, kao i druge zemlje i međunarodne organizacije, u zoni zemljotresa.\\nBlizu 912.000 ljudi dobilo je psihosocijalnu podršku, od čega oko 615.000 u potresnom području i 297.000 izvan potresnog područja.</td>\n",
       "    </tr>\n",
       "  </tbody>\n",
       "</table>\n",
       "</div>"
      ],
      "text/plain": [
       "                                                                                                                       title  \\\n",
       "20                                                                                               Milijardu eura zbog potresa   \n",
       "9569                                      Iz zgrade koja se srušila nakon niza potresa spasioci izvukli nekoliko ozlijeđenih   \n",
       "4684                                 Iz ruševina zgrade u Turskoj, koja se srušila nakon niza potresa, spasili su više ljudi   \n",
       "27938               Ovo je pravo čudo: čak 21 dan nakon razornog potresa u Turskoj, iz ruševina je spašen - živ i zdrav konj   \n",
       "20267                                                Europska komisija: Dajemo milijardu eura Turskoj za pomoć nakon potresa   \n",
       "7197          \"Milijuni ljudi su bez doma\": Europska komisija daje milijardu eura Turskoj za pomoć nakon potresa - Novi list   \n",
       "14633                                                                Broj poginulih u zemljotresima u Turskoj veći od 50.000   \n",
       "28394      Erdoganova predizborna kampanja: Uhitio desetke građevinara i poduzetnika! Oporba bijesna: ‘Za sve je on kriv...‘   \n",
       "3814                                                                                  10. međunarodni sajam turizma Place2Go   \n",
       "3094     Solidarnost sa ženama i djevojkama u Turske i Siriji: U BiH do kraja mjeseca akcija prikupljanja higijenskih paketa   \n",
       "18563                                                     Pomoć nakon potresa: Europska komisija Turskoj daje milijardu eura   \n",
       "12066  Jeste li čuli za pide? Nazivaju ga turskom pizzom, nevjerojatno je ukusan: uvjerite se, ove kombinacije su genijalne!   \n",
       "2885                                                     Drugi konvoj Crvenog križa Federacije BiH danas otputovao za Tursku   \n",
       "3071                                                                     Zemljotres jačine 4,8 stepeni pogodio sjever Turske   \n",
       "28185                                       Svjetska banka procijenila štetu od zemljotresa u Turskoj na 34 milijarde dolara   \n",
       "\n",
       "                                                                                                                                                                                                                                                                                                                                                                                                                                                                                                                                                                                                                                                                                                                                                                                                                                                                                                                                                                                                                                                                                                                                                                                                                                                                                                                                                                                                                                                                                                                                                                                                                                                                                                                                                                                                                                                                                                                                                                                                                                                                                                                                                                                                                                                                                                                                                                                                                                                                                                                                                                                                                                                              body  \n",
       "20                                                                                                                                                                                                                                                                                                                                                                                                                                                                                                                                                                                                                                                                                                                                                                                                                                                                                                                                                                                                                                                                                                                                                                                                                                                                                                                                                                                                                                                                                                                                                                                                                                                                                                                                                                                                                                                                                                                                                                                       Europska komisija dat će milijardu eura pomoći potresom pogođenoj Turskoj, rekla je u ponedjeljak predsjednica tog tijela Ursula von der Leyen na početku međunarodne donorske konferencije. Von der Leyen je o potresu, koji je odnio gotovo 50 tisuća života u Turskoj i Siriji, govorila kao o najvećoj prirodnoj katastrofi koja je pogodila regiju u posljednjih nekoliko godina. “Kuće, škole i bolnice moraju se ponovno izgraditi, uz najviše standarde sigurnosti od potresa. Voda, kanalizacija i druga ključna infrastruktura moraju se popraviti”, poručila je. Europska komisija dat će dodatnih 108 milijuna eura za humanitarnu pomoć i oporavak Sirije. H  \n",
       "9569                                                                                                                                                                                                                                                                                                                                                                                                                                                                                                                                                                                                                                                                                                                                                                                                                                                                                                                                                                                                                                                                                                                                                                                                                                                                                                                                                                                                                                                                                                                                                                                                                                    Spasilačke službe u nedjelju su izvukle nekoliko ozlijeđenih osoba iz šesterokatnice u turskome gradu Sanliurfe, koja se srušila nakon oštećenja nastalih na njoj u razornim potresima 6. veljače, piše novinska agencija Anadolija.\\nNakon prva dva razorna potresa magnitude 7,7 i 7,6 koji su prije mjesec dana pogodili jugoistočnu Tursku i sjevernu Siriju, uslijedio je niz naknadnih potresa.\\nŠesterokatnica u Sanliurfi je oštećena nakon prva dva snažna potresa, no tada se nije srušila. Niz naknadnih potresa utjecao je na statiku zgrade koja se na kraju ipak srušila.\\nAgencija prenosi da su zaposlenici hitne pomoći pozvali sve prisutne u blizini da utihnu kako bi uspjeli čuti zvukove koji su dolazili ispod ruševina.\\nFotografije snimljene sigurnosnom kamerom pokazale su na koji se način zgrada srušila na prometnu cestu.\\nU Turskoj je nakon potresa ostalo gotovo dva milijuna beskućnika. Mnogi su smješteni u šatorske kampove, no dio ljudi se počeo vraćati u svoje oštećene domove.  \n",
       "4684                                                                                                                                                                                                                                                                                                                                                                                                                                                                                                                                                                                                                                                                                                                                                                                                                                                                                                                                                                                                                                                                                                                                                                                                                                                                                                                                                                                                                                                  Šesterokatnica u Sanliurfi je oštećena nakon prva dva snažna potresa, no tada se nije srušila. Niz naknadnih potresa utjecao je na statiku zgrade koja se na kraju ipak srušila.\\nSpasilačke službe u nedjelju su izvukle nekoliko ozlijeđenih osoba iz šesterokatnice u turskome gradu Sanliurfe, koja se srušila nakon oštećenja nastalih na njoj u razornim potresima 6. veljače, piše novinska agencija Anadolija.\\nNakon prva dva razorna potresa magnitude 7,7 i 7,6 koji su prije mjesec dana pogodili jugoistočnu Tursku i sjevernu Siriju, uslijedio je niz naknadnih potresa.\\nŠesterokatnica u Sanliurfi je oštećena nakon prva dva snažna potresa, no tada se nije srušila. Niz naknadnih potresa utjecao je na statiku zgrade koja se na kraju ipak srušila.\\nAgencija prenosi da su zaposlenici hitne pomoći pozvali sve prisutne u blizini da utihnu kako bi uspjeli čuti zvukove koji su dolazili ispod ruševina.\\nFotografije snimljene sigurnosnom kamerom pokazale su na koji se način zgrada srušila na prometnu cestu.\\nU Turskoj je nakon potresa ostalo gotovo dva milijuna beskućnika. Mnogi su smješteni u šatorske kampove, no dio ljudi se počeo vraćati u svoje oštećene domove.  \n",
       "27938                                                                                                                                                                                                                                                                                                                                                                                                                                                                                                                                                                                                                                                                                                                                                                                                                                                                                                                                                                                                                                                                                                                                                                                                                                                                                                                                                                                                                                                                                                                                                                                                                                                                                                                                                                                                                                                                                                                                                                                                                                                                                                                                       Od razornog potresa koji je pogodio Tursku i Siriju prošao je već 21 dan, no vijesti o čudesnim spašavanjima još pristižu.\\nToliko vrijeme pod ruševinama ne bi mogao preživjeti niti jedan čovjek, no preživio je jedan - konj.\\nTursko ministarstvo poljoprivrede i šumarstva objavilo je video iz grada Adıyaman gdje je konj izvučen iz ruševina.\\nUz malu pomoć, konj se sam uspeo na čvrto tlo i odmah je odveden veterinaru koji je ustanovio da nema teže ozljede.\\nSretni konj je nakon toga vraćen vlasniku.  \n",
       "20267                                                                                                                                                                                                                                                                                                                                                                                                                                                                                                                                                                                                                                                                                                                                                                                                                                                                                                                                                                                                                                                          OBJAVILA VON DER LEYEN\\nEuropska komisija: Dajemo milijardu eura Turskoj za pomoć nakon potresa\\nEuropska komisija dat će milijardu eura pomoći potresom pogođenoj Turskoj, rekla je u ponedjeljak predsjednica tog tijela Ursula von der Leyen na početku međunarodne donorske konferencije.\\nVon der Leyen je o potresu, koji je odnio gotovo 50 tisuća života u Turskoj i Siriji, govorila kao o najvećoj prirodnoj katastrofi koja je pogodila regiju u posljednjih nekoliko godina. \"Milijuni su sada bez doma i po zimi žive u šatorima\", rekla je na početku konferencije.\\n\"Moramo se mobilizirati za obnovu. Kuće, škole i bolnice moraju se ponovno izgraditi, uz najviše standarde sigurnosti od potresa. Voda, kanalizacija i druga ključna infrastruktura moraju se popraviti. Javne službe i poduzeća trebaju kapital za ponovni rad, kako bi ljudi mogli zaraditi za život\", poručila je.\\nVon der Leyen je rekla da će Komisija dati dodatnih 108 milijuna eura za humanitarnu pomoć i oporavak Sirije. Europska unija ne održava diplomatske veze s predsjednikom te zemlje Bašarom al-Asadom od rata koji je krenuo 2011. godine.\\nProgram Ujedinjenih naroda za razvoj (UNDP) procjenjuje da \"ukupni financijski teret potresa\" za Tursku iznosi oko 103,6 milijardi dolara, što je devet posto predviđenog BDP-a te zemlje za 2023. godinu.\\nMinistar vanjskih i europskih poslova Gordan Grlić Radman ranije je rekao da će Hrvatska na konferenciji najaviti novu pomoć dvjema državama, čime će ukupno ona iznositi pet milijuna eura za Tursku i 400 tisuća eura za Siriju.  \n",
       "7197                                                                                                                                                                                                                                                                                                                                                                                                                                                                                                                                                                                                                                                                                                                                                                                                                                                                                                                                                                                                                                                                                                                                                      REUTERS\\nEuropska komisija dat će milijardu eura pomoći potresom pogođenoj Turskoj, rekla je u ponedjeljak predsjednica tog tijela Ursula von der Leyen na početku međunarodne donorske konferencije.\\nVon der Leyen je o potresu, koji je odnio gotovo 50 tisuća života u Turskoj i Siriji, govorila kao o najvećoj prirodnoj katastrofi koja je pogodila regiju u posljednjih nekoliko godina.\\n„Milijuni su sada bez doma i po zimi žive u šatorima“, rekla je na početku konferencije.\\n“Moramo se mobilizirati za obnovu. Kuće, škole i bolnice moraju se ponovno izgraditi, uz najviše standarde sigurnosti od potresa. Voda, kanalizacija i druga ključna infrastruktura moraju se popraviti. Javne službe i poduzeća trebaju kapital za ponovni rad , kako bi ljudi mogli zaraditi za život”, poručila je.\\nVon der Leyen je rekla da će Komisija dati dodatnih 108 milijuna eura za humanitarnu pomoć i oporavak Sirije. Europska unija ne održava diplomatske veze s predsjednikom te zemlje Bašarom al-Asadom od rata koji je krenuo 2011. godine.\\nProgram Ujedinjenih naroda za razvoj (UNDP) procjenjuje da “ukupni financijski teret potresa” za Tursku iznosi oko 103,6 milijardi dolara , što je 9 posto predviđenog BDP-a te zemlje za 2023. godinu.\\nMinistar vanjskih i europskih poslova Gordan Grlić Radman ranije je rekao da će Hrvatska na konferenciji najaviti novu pomoć dvjema državama, čime će ukupno ona iznositi 5 milijuna eura za Tursku i 400 tisuća eura za Siriju.  \n",
       "14633                                                                                                                                                                                                                                                                                                                                                                                                                                                                                                                                                                                                                                                                                                                                                                                                                                                                                                                                                                                                                                                                                                                                                                                                                                                                                                                                                                                                                                                                                                                                                                                                                                                                                                                                                                                                                                                                                                                                                                                                                                                                                                                                                           Broj poginulih u razornim zemljotresima koji su prošlog mjeseca pogodili jug Turske povećan je na 50.096, potvrđeno je iz Uprave za vanredne situacije (AFAD).\\nPredsjednik AFAD-a Yunus Sezer rekao je da su povrijeđene 107.204 osobe.\\nDva razorna zemljotresa jačine 7,7 i 7,6 stepeni po Rihteru 6. februara pogodila su južne dijelove Turske sa epicentrom u Kahramanmarašu.\\nViše od 13,5 miliona ljudi u Turskoj pogođeno je razornim zemljotresima, kao i mnogi drugi na sjeveru Sirije.  \n",
       "28394                                                                                                                                                                                                                                                                                                                                                                                                                                                                                                                                                                                                                                                                                                                                                                                                                                                                                                                                                                                                                                                                                                                                                                                                                                                                                                                      Turski ministar pravosuđa Bekir Bozdak u subotu je izvijestio kako su 184 osobe, mahom građevinski poduzetnici i investitori, uhićeni zbog sumnje da nisu poštivali građevinske propise nego su gradiliu zgrade bez adekvatne protupotresne zaštite koje su se srušile u Turskoj nakon potresa magnitude 7,8 po Richteru, javlja BBC.\\nU Turskoj se srušilo ili je teško oštećeno više od 16 tisuća zgrada, a poginulo je, ako se uračunaju podaci iz susjedne Sirije, više od 50 tisuća ljudi.\\nKako pišu turski mediji, među uhićenima je i gradonačelnik jednog turskog grada u blizini epicentra, a ministar pravosuđa Bozdak komentirao je i kako se istraga proširila. Još prije dva tjedna na turskim tjeralicama je završilo 113 osoba koje se terete za nemarnu gradnju, a sada se procjenjuje kako se istražuje 600-ak osoba.\\nUsusret predsjedničkih i parlamentarnih izbora u Turskoj, koji bi mogli biti izrazito neizvjesni, oporba optužuje predsjednika države Recepa Tayyipa Erdogana da njegova vlada ne provodi građevinske propise čime ga pokušavaju okriviti za smrt velikog broja sugrađana.\\nOproba ističe kako vlada nije sankcionirala građevinare koji su otkriveni u kršenju propisa jer je željela potaknuti ubrzani građevinski razvoj države.\\nPodsjećamo da će se izbori u Turskoj održati 14. svibnja.  \n",
       "3814                                                                                                                                                                                                                                                                                                                                                                                                                                                                                                                                                                                                                                                                                                                                                                                                                                                                                                                                                                                                                                                                                                                                                                                                                                                                                                                                                                                                                                                                                                                                                                                                                                                                                                                                                                                                                                                                                                                                                                                                                                                                                                                                                                                                                                                                                                                                                                                                                                                                                                                                                     Video sadržaj ceste pretvorene u rijeke Tursku pogodile bujične poplave: Najmanje desetero ljudi poginulo  \n",
       "3094                                                                                                                                                                                                                                                                                                                                                                                                                                                                                                                                                                                                                                                                                                                                                                                                                                                                                                                                                                                                                                                                                                                                                                                                                                                                                                                                                                                                                                                                Crveni križ Federacije Bosne i Hercegovine početkom marta pokrenuo je kampanju “Niste same” za žene i djevojke u Turskoj i Siriji.\\nCilj je prikupiti što više osnovnih higijenskih paketa za žene i djevojke koje su ostale bez svojih domova nakon razornih zemljotresa početkom februara, te im bar na kratko izmamiti osmijeh i ublažiti patnju.\\nSet bi trebao sadržavati: sapun, šampon, gel za tuširanje, vlažne maramice, uloške, četkicu i pastu za zube, dezedorans u stiku, labelo, noktaricu i štapiće za uši.\\n\"Akcija je pokrenuta početkom marta, a traje cijeli mjesec. Cilj je prikupiti što više higijenskih paketa koji će se kasnije distribuirati ženama i djevojkama u Turskoj i Siriji. Ono što možemo da uradimo jeste da zapakujemo paketić koji u prosjeku košta oko 25 konvertibilnih maraka. Paket treba da sadrži sapun, šampon, gel za tuširanje, vlažne maramice, kremu za ruke i tijelo, štapiće za uši...Dakle, neke osnovne stvari koje su svakodnevno potrebne ženama”, kazala je Indira Kriještorac, glasnogovornica Crvenog križa Federacije BiH.\\nNaglasila je da je potrebno da svi proizvodi budu zapakovani u kutiju, koja se ukrašava na neki način.  \n",
       "18563                                                                                                                                                                                                                                                                                                                                                                                                                                                                                                                                                                                                                                                                                                                                                                                                                                                                 ursula von der leyen\\nPomoć nakon potresa: Europska komisija Turskoj daje milijardu eura\\nIzvor: Profimedia / Autor: Selami Kucukoglu / AFP / Profimedia\\nVon der Leyen je o potresu, koji je odnio gotovo 50 tisuća života u Turskoj i Siriji, govorila kao o najvećoj prirodnoj katastrofi koja je pogodila regiju u posljednjih nekoliko godina.\\n„Milijuni su sada bez doma i po zimi žive u šatorima“, rekla je na početku konferencije.\\n-\\n39\\nsanacija nakon potresa\\nHrvatska u Tursku šalje pet milijuna eura pomoći, u Siriju odlazi 400 tisuća\\n-\\n39\\njugoistok zemlje\\nNova katastrofa u Turskoj: Nakon razornih potresa zemlju pogodile poplave, poginuli deseci ljudi\\n-\\n9\\nhatay\\n[VIDEO] Obilne kiše poplavile šatore u kojima žive žrtve potresa u Turskoj\\n\"Moramo se mobilizirati za obnovu. Kuće, škole i bolnice moraju se ponovno izgraditi, uz najviše standarde sigurnosti od potresa. Voda, kanalizacija i druga ključna infrastruktura moraju se popraviti. Javne službe i poduzeća trebaju kapital za ponovni rad , kako bi ljudi mogli zaraditi za život\", poručila je.\\nVon der Leyen je rekla da će Komisija dati dodatnih 108 milijuna eura za humanitarnu pomoć i oporavak Sirije. Europska unija ne održava diplomatske veze s predsjednikom te zemlje Bašarom al-Asadom od rata koji je krenuo 2011. godine.\\nProgram Ujedinjenih naroda za razvoj (UNDP) procjenjuje da \"ukupni financijski teret potresa\" za Tursku iznosi oko 103,6 milijardi dolara , što je 9 posto predviđenog BDP-a te zemlje za 2023. godinu.\\nMinistar vanjskih i europskih poslova Gordan Grlić Radman ranije je rekao da će Hrvatska na konferenciji najaviti novu pomoć dvjema državama, čime će ukupno ona iznositi 5 milijuna eura za Tursku i 400 tisuća eura za Siriju.  \n",
       "12066  Specijaliteti turske kuhinje stoljećima su prisutni na našim prostorima, a zahvaljujući popularnosti turskih sapunica, posljednjih su nam godina postala bliža čak i ona jela koja se za osmanske okupacije kod nas nisu udomaćila. No jeste li čuli za pide? Mnogi nisu, premda je riječ o jako popularnom jelu, čak i izvan granica Turske. Ponekad se naziva i turskom pizzom, unatoč zamjetnim razlikama.\\nPonajprije, tu je oblik, zbog kojeg je pide izvana hrskav, a iznutra sočan jer za razliku od plosnate pizze, može podnijeti daleko više nadjeva. Po pitanju nadjeva uobičajene su različite vrste sira, mesa i povrća, a kad govorimo o kombinacijama, omiljene su one koje uključuju mladi sir i začinsko bilje ili pak špinat i luk, zatim one s turskom kobasicom srodnom našem sudžuku i mrvljenim slanim sirom, pa one s mljevenom janjetinom, češnjakom i ljutim začinima te spoj umaka od rajčice i pečenog patlidžana. Sve nam to zvuči baš dobro, neće se biti lako odlučiti...\\nPide s gljivama, fetom i kobasicom\\nSastojci\\n300 g brašna\\n250 ml tople vode\\n2 žličice instant kvasca\\n1 žličica granuliranog šećera\\n1 žličica morske soli ili košer soli\\n2-3 žlice maslinovog ulja\\n1 glavica luka\\n4 češnja češnjaka\\n200 g gljiva\\n200 g špinata\\n150 g feta sira\\n50 g sudžuka\\n1 crvena paprika\\nsol, papar\\nPriprema:\\nPomiješajte instant kvasac, šećer i toplu vodu. Ostavite na toplom mjestu da naraste pa dodajte brašnu pomiješanom sa soli. Izradite smjesu u ljepljivo tijesto pa ga ostavite na toplom dok se ne udvostruči.\\nZa nadjev zagrijte 1 žlicu maslinovog ulja, dodajte usitnjeni luk, češnjak, narezanu papriku i gljive. Pirjajte 10 minuta na srednjoj vatri, ugasite vatru i dodajte špinat, izmrvljeni feta sir i te sol i papar. Pustite da se ohladi.\\nNakon što se tijesto diglo, premijesite ga, oblikujte glatku kuglu i podijelite je na dva dijela te od svakog napravite kuglicu. Na lagano pobrašnjenoj površini razvucite kuglice tijesta u 2 ovalna oblika. Budite strpljivi jer tijesto je elastično pa će se vraćati u prethodni oblik.\\nZagrijte pećnicu na 200 stupnjeva Celzija i obložite dva lima za pečenje papirom za pečenje.\\nStavite prvi oval na pripremljeni lim za pečenje pa mu po sredini rasporedite polovicu nadjeva, ostavljajući rub od oko 2 i pol centimetra. Presavijte strane prema nadjevu da djeluju kao obrub pa stisnite na svakon kraju da postanu šiljasti. Po vrhu nadjeva poslažite narezani sudžuk, rubove premažite maslinovim uljem i ubacite pide u zagrijanu pećnicu. Pecite 25 minuta do pola sata.\\nPonovite s preostalim tijestom i nadjevom  \n",
       "2885                                                                                                                                                                                                                                                                                            Drugi konvoj Crvenog križa Federacije BiH danas je otputovao za Tursku s robom za uspostavljanje kampova za prihvat osoba koje su ostale bez svojih domova.\\nDonacija u vrijednosti od 510.000 KM sadrži 33 stambena kontejnera i 8 montažnih kućica, šatore, električne grijalice, agregate, rasklopive krevete i stolice, vreće za spavanje, higijenske pakete i druge prioritetne stvari koje je struktura Crvenog križa, zajedno sa građanima sakupljala na osnovu potreba Turskog Crvenog polumjeseca.\\nPrvi konvoj\\nPodsjetimo, sredinom prošlog mjeseca otišao je prvi konvoj Crvenog križa FBiH u vrijednosti od 500.000 KM.\\n\"Kao i prethodni put posjetit ćemo regiju Hataj, koju su zahvatili zemljotresi i tom prilikom ćemo se ponovo sastati sa nešim kolegama iz Turskog Crvenog polumjeseca. Namjeravamo poslati i treći konvoj humanitarne pomoći i upravo je to jedan od razloga zbog čega u Tursku ovaj put putuje visoka delegacija Crvenog križa. Neophodno je utvrditi dalje korake kako bi se na što bolji način radilo na ublažavanju patnji naroda koji je preživio razorne zemljotrese\" - istakao je generalni sekretar Crvenog križa Federacije BiH Namik Hodžić.\\nDelegaciju Crvenog križa čine predsjednik i generalni sekretar Crvenog križa FBiH Husein Kličić i Namik Hodžić, sekretar Crvenog križa općine Kalesija Safet Šahmanović, a pridružit će im se i načelnik Općine Kalesija Sead Džafić.\\nProvođenje kampanje\\nPodsjećamo, tokom mjeseca marta provodi se i kampanja „Niste same za žene i djevojke u Turskoj i Siriji“, čiji je cilj prikupiti što više higijenskih paketa. Paket podrške može se ostaviti u svim lokalnim organizacijama Crvenog križa širom Federacije BiH.\\nTakođer, Crveni križ u Bosni i Hercegovini od samog početka pokrenuo je humanitarni broj 17023 putem kojeg se mogu donirati 2 KM za stanovnitšvo ugroženo usljed zemljotresa u Turskoj i Siriji, te otvorio namjenski žiro račun 1340011130004680 kod ASA Banke d.d. Sarajevo, Fra Anđela Zvizdovića 1/A 71000 Sarajevo za uplate donacija (primalac Društvo Crvenog krsta/križa BiH, Kranjčevićeva 2, 71000 Sarajevo). Od početka akcije, putem žiro-računa i humanitarnog broja do sada je prikupljeno oko 500.000 KM.\\nAkcije Crvenog križa nastavljaju se i u narednom periodu kako bi pomoć ugroženom stanovništvu Turske i Sirije  \n",
       "3071                                                                                                                                                                                                                                                                                                                                                                                                                                                                                                                                                                                                                                                                                                                                                                                                                                                                                                                                                                                                                                                                                                                                                                                                                                                                                                                                                                                                                                                                                                                                                                                                                                                                                                                                                                                                                                                                                                                                                                                                                                                      Zemljotres jačine 4,8 stepeni po Richteru pogodio je Bolu, pokrajinu na sjeverozapadu Turske.\\nPrema podacima Evropsko-mediteranskog seizmološkog centra (EMSC), zemljotres je zabilježen 300 km od Bolua. Zemljotres je registrovan u 13.55 sati po lokalnom vremenu.\\nZabilježen je na dubini od 8,13 kilometara. Jedna osnovna škola u Kaynasliju preventivno je evakuisana. Za sada nije poznato ima li stradalih osoba, niti urušenih objekata.\\nPodsjećamo, prije mjesec dana jugozapadni dio Turske i Sirije pogodila je serija razornih zemljotresa u kojima je stradalo desetine hiljada ljudi.  \n",
       "28185                                                                                                                                                                                                                                                                                                                                                                                                                                                                                                                                                                                                                                                                                                                                                                                                                                                                                                                                                                                                                                                                                                                                                                                                                                                                                                                                                                                                                                                                                                                                                                                                                                                                                                                                                                                                                                                                                                                                                                                                                                                                               Svjetska banka procijenila je štetu od zemljotresa u Turskoj na 34 milijarde dolara.\\nPodsjećamo, broj poginulih od posljedica razornih zemljotresa koji su Tursku pogodili početkom mjeseca veći je od 44.000.\\nViše od 230.000 ljudi trenutno radi na terenu.\\nNadležni timovi su postavili blizu 335.400 šatora koje su poslala ministarstva i nadležne institucije, kao i druge zemlje i međunarodne organizacije, u zoni zemljotresa.\\nBlizu 912.000 ljudi dobilo je psihosocijalnu podršku, od čega oko 615.000 u potresnom području i 297.000 izvan potresnog područja.  "
      ]
     },
     "execution_count": 42,
     "metadata": {},
     "output_type": "execute_result"
    }
   ],
   "source": [
    "pd.set_option('max_colwidth', None)\n",
    "df.sort_values(\"sim1\", ascending=False)[[\"title\", \"body\"]][0:15]"
   ]
  },
  {
   "cell_type": "markdown",
   "id": "353683c4",
   "metadata": {},
   "source": [
    "## BM25"
   ]
  },
  {
   "cell_type": "code",
   "execution_count": 43,
   "id": "bcd5ee99",
   "metadata": {},
   "outputs": [
    {
     "name": "stdout",
     "output_type": "stream",
     "text": [
      "Requirement already satisfied: rank-bm25 in c:\\users\\ivan\\appdata\\local\\programs\\python\\python310\\lib\\site-packages (0.2.2)\n",
      "Requirement already satisfied: numpy in c:\\users\\ivan\\appdata\\local\\programs\\python\\python310\\lib\\site-packages (from rank-bm25) (1.23.5)\n"
     ]
    }
   ],
   "source": [
    "!pip install rank-bm25"
   ]
  },
  {
   "cell_type": "code",
   "execution_count": 44,
   "id": "bf623367",
   "metadata": {},
   "outputs": [
    {
     "name": "stderr",
     "output_type": "stream",
     "text": [
      "29625it [22:25, 22.02it/s]\n"
     ]
    }
   ],
   "source": [
    "nlp = spacy.load(\"hr_core_news_lg\")\n",
    "corpus = []\n",
    "for i, data in tqdm(df.iterrows()):\n",
    "    corpus.append([i.lemma_ for i in nlp(data[\"body\"]) if (i not in nlp.Defaults.stop_words) and (not i.is_punct)])\n",
    "corpus = pd.DataFrame.from_dict({\"lemmas\": corpus})"
   ]
  },
  {
   "cell_type": "code",
   "execution_count": 45,
   "id": "ffe4a1b4",
   "metadata": {},
   "outputs": [
    {
     "name": "stdout",
     "output_type": "stream",
     "text": [
      "(29625, 1)\n"
     ]
    },
    {
     "data": {
      "text/html": [
       "<div>\n",
       "<style scoped>\n",
       "    .dataframe tbody tr th:only-of-type {\n",
       "        vertical-align: middle;\n",
       "    }\n",
       "\n",
       "    .dataframe tbody tr th {\n",
       "        vertical-align: top;\n",
       "    }\n",
       "\n",
       "    .dataframe thead th {\n",
       "        text-align: right;\n",
       "    }\n",
       "</style>\n",
       "<table border=\"1\" class=\"dataframe\">\n",
       "  <thead>\n",
       "    <tr style=\"text-align: right;\">\n",
       "      <th></th>\n",
       "      <th>lemmas</th>\n",
       "    </tr>\n",
       "  </thead>\n",
       "  <tbody>\n",
       "    <tr>\n",
       "      <th>0</th>\n",
       "      <td>[Električan, problem, zaustaviti, biti, u, utorak, nešto, prije, 10, sat, tramvajski, promet, između, Višnjevac, i, zeleni, polje, kako, biti, biti, struja, koji, biti, pokrenuti, tramvaj, iz, gradski, prijevoz, putnik, u, promet, biti, odmah, nakon, saznanje, za, kvar, u, promet, pustiti, četiri, autobus, Putnik, koji, biti, sebe, zateći, u, tramvaj, do, svoj, odredište, potom, biti, doći, autobus, iz, GPP, a, poručivati, kako, biti, u, svaki, trenutak, prilikom, ovakav, situacija, spreman, organizirati, alternativan, prijevoz, a, sve, kako, biti, građanin, na, vrijeme, stići, do, željen, destinacija, M.Bu]</td>\n",
       "    </tr>\n",
       "    <tr>\n",
       "      <th>1</th>\n",
       "      <td>[Most, Bir, Hakeim, koji, biti, poznat, po, željezan, stupov, i, pogled, na, eiffelov, toranj, preimenovati, htjeti, sebe, u, Šetalište, Jean, paula, Belmond, u, znak, sjećanje, na, francuski, glumac, koji, biti, umrijeti, 2021, objaviti, biti, vijeće, grad, Pariz, on, biti, ondje, snimiti, kultan, scena, iz, krimić, Henrij, Verneuila, peur, sur, la, Ville, iz, 1975, u, koji, glumiti, policajac, Jean, Letellier, Tragajući, za, serijski, ubojic, koji, progoniti, mlad, žena, u, jedan, scena, završiti, i, na, krov, vagon, metro, linija, broj, 6, koji, u, jedan, dio, put, prelaziti, preko, Seina, ispod, most, Bir, Hakeim, Političarka, i, vijećnica, Maud, Gatel, nekoliko, biti, tjedan, nakon, ...]</td>\n",
       "    </tr>\n",
       "    <tr>\n",
       "      <th>2</th>\n",
       "      <td>[Njemačka, biti, u, 2022, povećati, broj, javan, punionica, za, električan, vozilo, za, 35, posto, na, 80.500, izvijestiti, biti, Njemačko, udruženje, industrija, energija, i, voda, BDEW, nov, punionica, povećati, biti, kapacitet, za, punjenje, za, mnogo, od, 40, posto, na, 2,47, gigavat, navoditi, BDEW, snažno, povećanje, kapacitet, udruga, objašnjavati, u, prvi, red, znatno, velik, broj, punkt, za, ultrabrz, punjenje, kapacitet, od, malo, 150, kilovat, broj, punionica, često, biti, meta, kritika, argumentiraan, vladin, plan, o, milijun, punionica, do, 2030, navoditi, Andreae, tvrditi, da, biti, taj, cilj, zapravo, tehnički, zastariti, budući, da, ne, uzimati, u, obzir, kapacitet, za, punjenje, Razgranata, mreža, punionica, bez, pogovor, ...]</td>\n",
       "    </tr>\n",
       "    <tr>\n",
       "      <th>3</th>\n",
       "      <td>[Aramco, globalan, energetsko, kemijska, tvrtka, potpisati, biti, pismo, namjera, sa, proizvođač, automobil, Geely, i, Renault, Grupa, radi, stvaranje, nov, tvrtka, za, razvoj, pogonski, tehnologija, sa, nisk, razina, emisija, riječ, biti, o, razvoj, rješenje, u, područje, sintetički, gorivo, te, razvoj, nov, generacija, tehnologija, na, temelj, vodik, sa, globalan, mreža, od, 17, tvornica, za, proizvodnja, motor, i, pet, znanstveno, istraživačkih, centar, na, tri, kontinent, nov, biti, tvrtka, trebati, postati, samostalan, globalan, dobavljač, osim, taj, očekivati, sebe, da, htjeti, godišnje, proizvoditi, mnogo, od, pet, milijun, termički, hibridni, i, plug, in, hibridni, motor, i, prijenosan, sustav, te, opskrbljivati, mnogo, od, 130, zemlja, i, regija, ...]</td>\n",
       "    </tr>\n",
       "    <tr>\n",
       "      <th>4</th>\n",
       "      <td>[istraživanje, o, korištenje, sigurnosni, pojas, koji, biti, predstaviti, Roadpol, pokazati, biti, da, vozač, kombije, i, minibuseva, daleko, zaostati, u, pridržavanje, pravilo, u, odnos, na, vozač, osoban, automobil, iako, ni, kod, potonji, nemati, poboljšanje, K, taj, čak, 40, dijete, putovati, u, automobilo, na, nesiguran, način, pokazati, biti, nedavan, istraživanje, Roadpola, europski, mreža, prometan, policija, također, biti, zaključiti, da, biti, vikend, vozači, oprezan, od, svakodnevan, vozač, dok, biti, u, poglavlje, o, ne)vezivanje, sigurnosni, pojas, jedan, kategorija, posebno, problematičan, istraživanje, biti, tako, pokazati, da, vozač, kombije, i, minibuseva, daleko, zaostati, u, pridržavanje, slovo, zakon, u, usporedba, sa, vozač, osoban, automobil, u, istraživanje, provedenom, ...]</td>\n",
       "    </tr>\n",
       "  </tbody>\n",
       "</table>\n",
       "</div>"
      ],
      "text/plain": [
       "                                                                                                                                                                                                                                                                                                                                                                                                                                                                                                                                                                                                                                                                                                                                                                                                                                     lemmas\n",
       "0                                                                                                                                                                                                   [Električan, problem, zaustaviti, biti, u, utorak, nešto, prije, 10, sat, tramvajski, promet, između, Višnjevac, i, zeleni, polje, kako, biti, biti, struja, koji, biti, pokrenuti, tramvaj, iz, gradski, prijevoz, putnik, u, promet, biti, odmah, nakon, saznanje, za, kvar, u, promet, pustiti, četiri, autobus, Putnik, koji, biti, sebe, zateći, u, tramvaj, do, svoj, odredište, potom, biti, doći, autobus, iz, GPP, a, poručivati, kako, biti, u, svaki, trenutak, prilikom, ovakav, situacija, spreman, organizirati, alternativan, prijevoz, a, sve, kako, biti, građanin, na, vrijeme, stići, do, željen, destinacija, M.Bu]\n",
       "1                                                                                                             [Most, Bir, Hakeim, koji, biti, poznat, po, željezan, stupov, i, pogled, na, eiffelov, toranj, preimenovati, htjeti, sebe, u, Šetalište, Jean, paula, Belmond, u, znak, sjećanje, na, francuski, glumac, koji, biti, umrijeti, 2021, objaviti, biti, vijeće, grad, Pariz, on, biti, ondje, snimiti, kultan, scena, iz, krimić, Henrij, Verneuila, peur, sur, la, Ville, iz, 1975, u, koji, glumiti, policajac, Jean, Letellier, Tragajući, za, serijski, ubojic, koji, progoniti, mlad, žena, u, jedan, scena, završiti, i, na, krov, vagon, metro, linija, broj, 6, koji, u, jedan, dio, put, prelaziti, preko, Seina, ispod, most, Bir, Hakeim, Političarka, i, vijećnica, Maud, Gatel, nekoliko, biti, tjedan, nakon, ...]\n",
       "2                                                         [Njemačka, biti, u, 2022, povećati, broj, javan, punionica, za, električan, vozilo, za, 35, posto, na, 80.500, izvijestiti, biti, Njemačko, udruženje, industrija, energija, i, voda, BDEW, nov, punionica, povećati, biti, kapacitet, za, punjenje, za, mnogo, od, 40, posto, na, 2,47, gigavat, navoditi, BDEW, snažno, povećanje, kapacitet, udruga, objašnjavati, u, prvi, red, znatno, velik, broj, punkt, za, ultrabrz, punjenje, kapacitet, od, malo, 150, kilovat, broj, punionica, često, biti, meta, kritika, argumentiraan, vladin, plan, o, milijun, punionica, do, 2030, navoditi, Andreae, tvrditi, da, biti, taj, cilj, zapravo, tehnički, zastariti, budući, da, ne, uzimati, u, obzir, kapacitet, za, punjenje, Razgranata, mreža, punionica, bez, pogovor, ...]\n",
       "3                                        [Aramco, globalan, energetsko, kemijska, tvrtka, potpisati, biti, pismo, namjera, sa, proizvođač, automobil, Geely, i, Renault, Grupa, radi, stvaranje, nov, tvrtka, za, razvoj, pogonski, tehnologija, sa, nisk, razina, emisija, riječ, biti, o, razvoj, rješenje, u, područje, sintetički, gorivo, te, razvoj, nov, generacija, tehnologija, na, temelj, vodik, sa, globalan, mreža, od, 17, tvornica, za, proizvodnja, motor, i, pet, znanstveno, istraživačkih, centar, na, tri, kontinent, nov, biti, tvrtka, trebati, postati, samostalan, globalan, dobavljač, osim, taj, očekivati, sebe, da, htjeti, godišnje, proizvoditi, mnogo, od, pet, milijun, termički, hibridni, i, plug, in, hibridni, motor, i, prijenosan, sustav, te, opskrbljivati, mnogo, od, 130, zemlja, i, regija, ...]\n",
       "4  [istraživanje, o, korištenje, sigurnosni, pojas, koji, biti, predstaviti, Roadpol, pokazati, biti, da, vozač, kombije, i, minibuseva, daleko, zaostati, u, pridržavanje, pravilo, u, odnos, na, vozač, osoban, automobil, iako, ni, kod, potonji, nemati, poboljšanje, K, taj, čak, 40, dijete, putovati, u, automobilo, na, nesiguran, način, pokazati, biti, nedavan, istraživanje, Roadpola, europski, mreža, prometan, policija, također, biti, zaključiti, da, biti, vikend, vozači, oprezan, od, svakodnevan, vozač, dok, biti, u, poglavlje, o, ne)vezivanje, sigurnosni, pojas, jedan, kategorija, posebno, problematičan, istraživanje, biti, tako, pokazati, da, vozač, kombije, i, minibuseva, daleko, zaostati, u, pridržavanje, slovo, zakon, u, usporedba, sa, vozač, osoban, automobil, u, istraživanje, provedenom, ...]"
      ]
     },
     "execution_count": 45,
     "metadata": {},
     "output_type": "execute_result"
    }
   ],
   "source": [
    "corpus[\"lemmas\"] = corpus[\"lemmas\"].apply(\n",
    "    lambda x: [i for i in x if i!=\"\\n\"]\n",
    ")\n",
    "print(corpus.shape)\n",
    "corpus.head()"
   ]
  },
  {
   "cell_type": "code",
   "execution_count": 46,
   "id": "c4f16db5",
   "metadata": {},
   "outputs": [],
   "source": [
    "corpus.to_csv(\"../data/textual_similarity_lemmas.csv\", index=False)"
   ]
  },
  {
   "cell_type": "code",
   "execution_count": 47,
   "id": "1d156939",
   "metadata": {},
   "outputs": [
    {
     "name": "stdout",
     "output_type": "stream",
     "text": [
      "['Tim', 'zadužiti', 'za', 'razvoj', 'i', 'testiranje', 'Mercedes', 'Benz', 'Trucks', 'testirati', 'biti', 'operativan', 'spremnost', 'eActros', 'LongHaul', 'i', 'eActros', '300', 'u', 'ekstreman', 'uvjet', 'kako', 'biti', 'provjeriti', 'njihov', 'ponašanje', 'i', 'mogućnost', 'te', 'izvršiti', 'eventualan', 'poboljšanje', 'naime', 'pred', 'električan', 'kamion', 'postavljati', 'sebe', 'jednak', 'zahtjev', 'kao', 'pred', 'kamion', 'sa', 'klasičan', 'pogonski', 'sustav', 'pogotovo', 'kad', 'biti', 'riječ', 'o', 'težak', 'vremenski', 'uvjet', 'kao', 'što', 'biti', 'hladnoća', 'snijeg', 'i', 'led', 'ovogodišnji', 'zimski', 'test', 'obavljeni', 'biti', 'u', 'Rovaniemija', 'u', 'Finska', 'u', 'trajanje', 'od', 'šest', 'tjedan', 'i', 'pokazati', 'biti', 'sebe', 'kao', 'vrlo', 'važan', 'test', 'izdržljivost', 'Testnim', 'ciklus', 'obuhvaćeni', 'biti', 'različit', 'kamion', 'tegljač', 'različit', 'modelski', 'serija', 'uključivati', 'prototip', 'električan', 'tegljač', 'eActros', 'LongHaul', 'M.P.']\n"
     ]
    }
   ],
   "source": [
    "tokenized_corpus = corpus[\"lemmas\"].values.tolist()\n",
    "print(tokenized_corpus[15])"
   ]
  },
  {
   "cell_type": "code",
   "execution_count": 48,
   "id": "ad153b2f",
   "metadata": {},
   "outputs": [
    {
     "data": {
      "text/plain": [
       "<rank_bm25.BM25Okapi at 0x1e09eb2aa40>"
      ]
     },
     "execution_count": 48,
     "metadata": {},
     "output_type": "execute_result"
    }
   ],
   "source": [
    "from rank_bm25 import BM25Okapi\n",
    "\n",
    "bm25 = BM25Okapi(tokenized_corpus)\n",
    "bm25"
   ]
  },
  {
   "cell_type": "code",
   "execution_count": 49,
   "id": "520f0657",
   "metadata": {
    "scrolled": false
   },
   "outputs": [
    {
     "name": "stdout",
     "output_type": "stream",
     "text": [
      "europski komisija dati htjeti milijarda euro pomoći potres pogođeni Turska reći biti u ponedjeljak predsjednica taj tijelo Ursula von der Leyen na početak međunarodni donorski konferencija Von der Leyen biti o potres koji biti odniti gotovo 50 tisuća život u Turska i Sirija govoriti kao o najveći prirodan katastrofa koji biti pogoditi regija u posljednji nekoliko godina Kuće škola i bolnica morati sebe ponovno izgraditi uz mnogo standard sigurnost od potres Voda kanalizacija i drugi ključan infrastruktura morati sebe popraviti poručiti biti europski komisija dati htjeti dodatan 108 milijun euro za humanitaran pomoć i oporavak Sirija H\n",
      " -------------------------------------------------------------------------------------------------------------------- \n",
      "0: europski komisija dati htjeti milijarda euro pomoći potres pogođeni Turska reći biti u ponedjeljak predsjednica taj tijelo Ursula von der Leyen na početak međunarodni donorski konferencija 20.03.2023 15:49 Autor M.M./Hina HRT europski komisija dati htjeti milijarda euro pomoći potres pogođeni Turska reći biti u ponedjeljak predsjednica taj tijelo Ursula von der Leyen na početak međunarodni donorski konferencija Von der Leyen biti o potres koji biti odniti gotovo 50 tisuća život u Turska i Sirija govoriti kao o najveći prirodan katastrofa koji biti pogoditi regija u posljednji nekoliko godina milijuni biti sada bez doma i po zima živjeti u šatorima reći biti na početak konferencija morati sebe mobilizirati za obnova kuća škola i bolnica morati sebe ponovno izgraditi uz mnogo standard sigurnost od potres Voda kanalizacija i drugi ključan infrastruktura morati sebe popraviti Javne služba i poduzeće trebati kapital za ponovan rad kako biti čovjek moći zaraditi za život poručiti biti Von der Leyen biti reći da htjeti komisija dati dodatan 108 milijun euro za humanitaran pomoć i oporavak Sirija europski unija ne održavati diplomatski veza sa predsjednik taj zemlja Bašar al Asadom od rat koji biti krenuti 2011 godina program Ujedinjenih narod za razvoj UNDP procjenjivati da ukupan financijski teret potresati za Turska iznositi oko 103,6 milijarda dolar što biti 9 posto predviđeti BDP a taj zemlja za 2023 godina ministar vanjski i europski posao Gordan Grlić Radman rano biti reći da htjeti Hrvatska na konferencija najaviti nov pomoć dvjema država što htjeti ukupno on iznositi 5 milijun euro za Turska i 400 tisuća euro za Sirija vijest HRT a pratiti na svoj pametan telefon i tableto putem aplikacija za iOS i Android pratite mi i na društven mreža Facebook Twitter Instagram i YouTube autorski pravo HRT © hrvatski radiotelevizija Sva pravo pridržan hrt.hr biti odgovoran za sadržaj eksteran izvor\n",
      "\n",
      "1: OBJAVILA VON DER LEYEN europski komisija Dajemo milijarda euro Turska za pomoć nakon potres europski komisija dati htjeti milijarda euro pomoći potres pogođeni Turska reći biti u ponedjeljak predsjednica taj tijelo Ursula von der Leyen na početak međunarodni donorski konferencija Von der Leyen biti o potres koji biti odniti gotovo 50 tisuća život u Turska i Sirija govoriti kao o najveći prirodan katastrofa koji biti pogoditi regija u posljednji nekoliko godina milijuni biti sada bez doma i po zima živjeti u šatorima reći biti na početak konferencija morati sebe mobilizirati za obnova kuća škola i bolnica morati sebe ponovno izgraditi uz mnogo standard sigurnost od potres Voda kanalizacija i drugi ključan infrastruktura morati sebe popraviti Javne služba i poduzeće trebati kapital za ponovan rad kako biti čovjek moći zaraditi za život poručiti biti Von der Leyen biti reći da htjeti komisija dati dodatan 108 milijun euro za humanitaran pomoć i oporavak Sirija europski unija ne održavati diplomatski veza sa predsjednik taj zemlja Bašar al Asadom od rat koji biti krenuti 2011 godina program Ujedinjenih narod za razvoj UNDP procjenjivati da ukupan financijski teret potresati za Turska iznositi oko 103,6 milijarda dolar što biti devet posto predviđeti BDP a taj zemlja za 2023 godina ministar vanjski i europski posao Gordan Grlić Radman rano biti reći da htjeti Hrvatska na konferencija najaviti nov pomoć dvjema država što htjeti ukupno on iznositi pet milijun euro za Turska i 400 tisuća euro za Sirija\n",
      "\n",
      "2: REUTERS europski komisija dati htjeti milijarda euro pomoći potres pogođeni Turska reći biti u ponedjeljak predsjednica taj tijelo Ursula von der Leyen na početak međunarodni donorski konferencija Von der Leyen biti o potres koji biti odniti gotovo 50 tisuća život u Turska i Sirija govoriti kao o najveći prirodan katastrofa koji biti pogoditi regija u posljednji nekoliko godina milijuni biti sada bez doma i po zima živjeti u šatorima reći biti na početak konferencija morati sebe mobilizirati za obnova kuća škola i bolnica morati sebe ponovno izgraditi uz mnogo standard sigurnost od potres Voda kanalizacija i drugi ključan infrastruktura morati sebe popraviti Javne služba i poduzeće trebati kapital za ponovan rad kako biti čovjek moći zaraditi za život poručiti biti Von der Leyen biti reći da htjeti komisija dati dodatan 108 milijun euro za humanitaran pomoć i oporavak Sirija europski unija ne održavati diplomatski veza sa predsjednik taj zemlja Bašar al Asadom od rat koji biti krenuti 2011 godina program Ujedinjenih narod za razvoj UNDP procjenjivati da ukupan financijski teret potresati za Turska iznositi oko 103,6 milijarda dolar što biti 9 posto predviđeti BDP a taj zemlja za 2023 godina ministar vanjski i europski posao Gordan Grlić Radman rano biti reći da htjeti Hrvatska na konferencija najaviti nov pomoć dvjema država što htjeti ukupno on iznositi 5 milijun euro za Turska i 400 tisuća euro za Sirija\n",
      "\n",
      "3: EUROPSKA komisija dati htjeti milijarda euro pomoći potres pogođeni Turska reći biti predsjednica taj tijelo Ursula von der Leyen na početak međunarodni donorski konferencija Von der Leyen biti o potres koji biti odniti gotovo 50 tisuća život u Turska i Sirija govoriti kao o najveći prirodan katastrofa koji biti pogoditi regija u posljednji nekoliko godina milijuni biti sada bez doma i po zima živjeti u šatorima reći biti na početak konferencija morati sebe mobilizirati za obnova kuća škola i bolnica morati sebe ponovno izgraditi uz mnogo standard sigurnost od potres Voda kanalizacija i drugi ključan infrastruktura morati sebe popraviti Javne služba i poduzeće trebati kapital za ponovan rad kako biti čovjek moći zaraditi za život poručiti biti Tekst sebe nastavljati ispod oglas Dodatan 108 milijun euro za humanitaran pomoć i oporavak Sirija Von der Leyen biti reći da htjeti komisija dati dodatan 108 milijun euro za humanitaran pomoć i oporavak Sirija europski unija ne održavati diplomatski veza sa predsjednik taj zemlja Bašar al Asadom od rat koji biti krenuti 2011 godina program Ujedinjenih narod za razvoj UNDP procjenjivati da ukupan financijski teret potresati za Turska iznositi oko 103,6 milijarda dolar što biti 9 posto predviđeti BDP a taj zemlja za 2023 godina ministar vanjski i europski posao Gordan Grlić Radman rano biti reći da htjeti Hrvatska na konferencija najaviti nov pomoć dvjema država što htjeti ukupno on iznositi 5 milijun euro za Turska i 400 tisuća euro za Sirija znate li nešto mnogo o tema ili željeti prijaviti greška u tekst\n",
      "\n",
      "4: ursuti von der leyen pomoć nakon potres europski komisija Turska davati milijarda euro izvor Profimedia Autor Selami Kucukoglu AFP profimedia Von der Leyen biti o potres koji biti odniti gotovo 50 tisuća život u Turska i Sirija govoriti kao o najveći prirodan katastrofa koji biti pogoditi regija u posljednji nekoliko godina milijuni biti sada bez doma i po zima živjeti u šatorima reći biti na početak konferencija 39 sanacija nakon potres Hrvatska u Turska slati pet milijun euro pomoć u Sirija odlaziti 400 tisuća 39 jugoistok zemlja nov katastrofa u Turska nakon razoran potres zemlja pogoditi poplava poginuti desetak čovjek 9 hatay VIDEO Obilne kiša poplaviti šator u koji živjeti žrtva potres u Turska morati sebe mobilizirati za obnova kuća škola i bolnica morati sebe ponovno izgraditi uz mnogo standard sigurnost od potres Voda kanalizacija i drugi ključan infrastruktura morati sebe popraviti Javne služba i poduzeće trebati kapital za ponovan rad kako biti čovjek moći zaraditi za život poručiti biti Von der Leyen biti reći da htjeti komisija dati dodatan 108 milijun euro za humanitaran pomoć i oporavak Sirija europski unija ne održavati diplomatski veza sa predsjednik taj zemlja Bašar al Asadom od rat koji biti krenuti 2011 godina program Ujedinjenih narod za razvoj UNDP procjenjivati da ukupan financijski teret potresati za Turska iznositi oko 103,6 milijarda dolar što biti 9 posto predviđeti BDP a taj zemlja za 2023 godina ministar vanjski i europski posao Gordan Grlić Radman rano biti reći da htjeti Hrvatska na konferencija najaviti nov pomoć dvjema država što htjeti ukupno on iznositi 5 milijun euro za Turska i 400 tisuća euro za Sirija\n",
      "\n",
      "5: NA MEĐUNARODNOJ donatorski konferencija prikupljiti biti sedam milijarda euro bespovratni sredstvo i zajm za pomoć žrtva potres u Turska i Sirija reći biti danas švedski premijer Ulf Kristersson predsjednica europski komisija Ursula von der Leyen izjaviti biti da biti prikupljiti iznos nadmašiti očekivanje nazvati rezultat izvanredan Tekst sebe nastavljati ispod oglas Von der Leyen Drago ja biti što međunarodni zajednica podupirati napor za obnova Turska i Sirija tako ja biti drago što danas vidjeti da međunarodni zajednica snažno podupirati napor za obnova Turska i Sirija dodati biti samo komisija trebati dati milijarda euro Turska najaviti biti rano Von der Leyen Njemačka udvostručivati potpora žrtva potres u Turska i Sirija na ukupno 240 milijun euro izjaviti biti njemački ministrica vanjski posao Annalena Baerbock Tursko sirijsku graničan regija pogoditi biti 6 veljača dva velik potres koji biti ostaviti mnogo od 50.000 mrtav i milijun bez dom znate li nešto mnogo o tema ili željeti prijaviti greška u tekst\n",
      "\n",
      "6: oGROMAN IZNOS na donatorski konferencija prikupljiti nevjerojatan sedam milijarda euro za Turska i Sirija na međunarodni donatorski konferencija prikupljiti biti sedam milijarda euro bespovratni sredstvo i zajm za pomoć žrtva potres u Turska i Sirija reći biti u ponedjeljak švedski premijer Ulf Kristersson predsjednica europski komisija Ursula von der Leyen izjaviti biti da biti prikupljiti iznos nadmašiti očekivanje nazvati rezultat izvanredan tako ja biti drago što vidjeti da međunarodni zajednica snažno podupirati napor za obnova Turska i Sirija dodati biti samo komisija trebati dati milijarda euro Turska najaviti biti rano von der Leyen Njemačka udvostručivati potpora žrtva potres u Turska i Sirija na ukupno 240 milijun euro izjaviti biti njemački ministrica vanjski posao Annalena Baerbock Tursko sirijsku graničan regija pogoditi biti 6 veljača dva velik potres koji biti ostaviti mnogo od 50.000 mrtav i milijun bez dom\n",
      "\n",
      "7: Reuters na međunarodni donatorski konferencija prikupljiti biti sedam milijarda euro bespovratni sredstvo i zajm za pomoć žrtva potres u Turska i Sirija reći biti u ponedjeljak švedski premijer Ulf Kristersson predsjednica europski komisija Ursula von der Leyen izjaviti biti da biti prikupljiti iznos nadmašiti očekivanje nazvati rezultat izvanredan tako ja biti drago što danas vidjeti da međunarodni zajednica snažno podupirati napor za obnova Turska i Sirija dodati biti samo komisija trebati dati milijarda euro Turska najaviti biti rano von der Leyen Njemačka udvostručivati potpora žrtva potres u Turska i Sirija na ukupno 240 milijun euro izjaviti biti njemački ministrica vanjski posao Annalena Baerbock Tursko sirijsku graničan regija pogoditi biti 6 veljača dva velik potres koji biti ostaviti mnogo od 50.000 mrtav i milijun bez dom\n",
      "\n",
      "8: pOMOŽ ŽRTAVAMA pOTRESA na donatorski konferencija prikupljiti sedam milijarda euro za Turska i Sirija ilustacija Izvor EPA Autor ERDEM SAHIN predsjednica europski komisija Ursula von der Leyen izjaviti biti da biti prikupljiti iznos nadmašiti očekivanje nazvati rezultat izvanredan tako ja biti drago što danas vidjeti da međunarodni zajednica snažno podupirati napor za obnova Turska i Sirija dodati biti samo komisija trebati dati milijarda euro Turska najaviti biti rano von der Leyen Njemačka udvostručivati potpora žrtva potres u Turska i Sirija na ukupno 240 milijun euro izjaviti biti njemački ministrica vanjski posao Annalena Baerbock Tursko sirijsku graničan regija pogoditi biti 6 veljača dva velik potres koji biti ostaviti mnogo od 50.000 mrtav i milijun bez dom\n",
      "\n"
     ]
    }
   ],
   "source": [
    "query = \" \".join(tokenized_corpus[20])\n",
    "print(query)\n",
    "print(\" -------------------------------------------------------------------------------------------------------------------- \")\n",
    "\n",
    "res = bm25.get_top_n(query.split(\" \"), tokenized_corpus, n=10)[1:]\n",
    "for i, r in enumerate(res):\n",
    "    print(f\"{i}: {' '.join(r)}\")\n",
    "    print()"
   ]
  },
  {
   "cell_type": "code",
   "execution_count": 50,
   "id": "2862b196",
   "metadata": {},
   "outputs": [
    {
     "data": {
      "text/html": [
       "<div>\n",
       "<style scoped>\n",
       "    .dataframe tbody tr th:only-of-type {\n",
       "        vertical-align: middle;\n",
       "    }\n",
       "\n",
       "    .dataframe tbody tr th {\n",
       "        vertical-align: top;\n",
       "    }\n",
       "\n",
       "    .dataframe thead th {\n",
       "        text-align: right;\n",
       "    }\n",
       "</style>\n",
       "<table border=\"1\" class=\"dataframe\">\n",
       "  <thead>\n",
       "    <tr style=\"text-align: right;\">\n",
       "      <th></th>\n",
       "      <th>body</th>\n",
       "    </tr>\n",
       "  </thead>\n",
       "  <tbody>\n",
       "    <tr>\n",
       "      <th>25337</th>\n",
       "      <td>Hrvatski tenisač Matej Dodig u nedjelju će se na ITF turniru u Rovinju (15.000 USD) boriti za svoj prvi naslov u seniorskoj konkurenciji, a mjesto u finalu izborio je subotnjom pobjedom 6-2, 6-3 protiv sedmog nositelja, 20-godišnjeg Talijana Fausta Tabacca (ATP - 502.).\\nDodigov suparnik u finalu bit će još jedan talijanski predstavnik, 22-godišnji šesti nositelj Federico Arnaboldi (ATP - 479.) koji je svladao Rumunja Cezara Cretua sa 6-2, 6-4.\\nDodig je za pobjedu protiv Tabacca trebao 83 minute, a u drugom setu je nadoknadio rani \"break\" zaostatka, da bi od rezultata 3-3 nanizao tri gema za pobjedu i plasman u finale.\\nZa 17-godišnjeg Osječanina ovo je tek drugi ITF turnir u seniorskoj konkurenciji, što njegov rezultat čini još značajnijim. Dodig je prošli tjedan u Poreču osvojio svoj prvi ATP bod, a ulaskom u finale osigurao ih je još osam. Osvajanje naslova pobjedniku donosi 15 bodova i novčanu nagradu od 1944 eura.\\nArnaboldi iza sebe ima već tri osvojena trofeja na ITF Touru, a sva tri je osvojio na zemljanoj podlozi, na kakvoj se igra i u rovinjskom TC \"Eden\", domaćinu drugog od tri turnira iz serije Istarska rivijera.\\nSljedeći tjedan je na rasporedu posljednji turnir 51. izdanja Istarske rivijere, a igrat će se na terenima TK \"Opatija\".\\nVijesti HRT-a pratite na svojim pametnim telefonima i tabletima putem aplikacija za iOS i Android. Pratite nas i na društvenim mrežama Facebook, Twitter, Instagram i YouTube!</td>\n",
       "    </tr>\n",
       "    <tr>\n",
       "      <th>20471</th>\n",
       "      <td>POŽALILA SE NA TWITTERU\\nAnđa Marić pobjesnila zbog birokracije: Je*** vam mater. Morala sam dokazivati da imam multiplu, ukinuli su mi doplatak\\nGlazbenica i spisateljica Anđa Marić, koja se bori s multiplom sklerozom, na društvenim je mrežama pisala o birokratskoj muci s kojom se suočava.\\n\"Iako sam imala invaliditet 80 posto 2018. godine, ove godine su mi ukinuli doplatak od 600 kuna mjesečno. Odbili su mi zahtjev za osobnu invalidninu koja je 225 eura jer im izgledam dobro pa mi valjda ne treba. Samo me treninzi i taksi koštaju mjesečno oko 3000 kuna\", napisala je na Twitteru.\\niako sam imala invaliditet 80% 2018. godine ove godine su mi ukinuli doplatak od 600 kn mjesečno. odbili su mi zahtjev za osobnu invalidninu koja je 225 € jer im izgledam dobro pa mi valjda ne treba. Samo me treninzi i taxi koštaju mjesečno oko 3000 kn— Anđa Marić (@AndjaMarics) March 16, 2023\\n\"Danas me zovu da mi je ipak odobren doplatak koji mi je ukinut prošle godine u 12. mjesecu jer sam morala doći dokazati da još uvijek imam multiplu sklerozu iako me nisu zvali na vještačenje i nisu dizali telefon i odgovarali na mail od 12. mjeseca\", nastavlja iznositi detalje na Twitteru.\\n\"I pravnik socijalne Trešnjevka mi je rekao da, sudeći po aplikaciji koju on ima, ne vidi da mi je ikada ukinut doplatak i da jer nažalost to naša država... Je*em vam mater, vi ste država, ja sam država i svi smo mi država. Tko mi kriv što sam pozitivna i ne zaslužujem pomoć i potporu\", nastavlja.\\n\"OK, ispuhala sam se, sada idemo dalje bez cendranja. Nekad i meni prekipi iako sam okorjela pozitivka. To stanje biram namjerno svaki dan iako i ja doživljavam sve što i vi, ali da mi je pažnja na onom što mi se ne sviđa – već bih davno poludjela\", napisala je Marić te se ispričala pratiteljima na trenutku očaja i brutalne iskrenosti.\\n\"‘Ispričavam se što sam svoj Twitter danas pretvorila u septičku jamu. Ljudi, dolazi nam proljeće, još samo tri menstruacije do ljeta\", zaključila je.</td>\n",
       "    </tr>\n",
       "  </tbody>\n",
       "</table>\n",
       "</div>"
      ],
      "text/plain": [
       "                                                                                                                                                                                                                                                                                                                                                                                                                                                                                                                                                                                                                                                                                                                                                                                                                                                                                                                                                                                                                                                                                                                                                                                                                                                                                                                                                                                                                                                                                                                                                                                                                                                                                                                                                                                                                                                                                                                                                                                                                                                  body\n",
       "25337                                                                                                                                                                                                                                                                                                                                                                                                                                                                                                                                                Hrvatski tenisač Matej Dodig u nedjelju će se na ITF turniru u Rovinju (15.000 USD) boriti za svoj prvi naslov u seniorskoj konkurenciji, a mjesto u finalu izborio je subotnjom pobjedom 6-2, 6-3 protiv sedmog nositelja, 20-godišnjeg Talijana Fausta Tabacca (ATP - 502.).\\nDodigov suparnik u finalu bit će još jedan talijanski predstavnik, 22-godišnji šesti nositelj Federico Arnaboldi (ATP - 479.) koji je svladao Rumunja Cezara Cretua sa 6-2, 6-4.\\nDodig je za pobjedu protiv Tabacca trebao 83 minute, a u drugom setu je nadoknadio rani \"break\" zaostatka, da bi od rezultata 3-3 nanizao tri gema za pobjedu i plasman u finale.\\nZa 17-godišnjeg Osječanina ovo je tek drugi ITF turnir u seniorskoj konkurenciji, što njegov rezultat čini još značajnijim. Dodig je prošli tjedan u Poreču osvojio svoj prvi ATP bod, a ulaskom u finale osigurao ih je još osam. Osvajanje naslova pobjedniku donosi 15 bodova i novčanu nagradu od 1944 eura.\\nArnaboldi iza sebe ima već tri osvojena trofeja na ITF Touru, a sva tri je osvojio na zemljanoj podlozi, na kakvoj se igra i u rovinjskom TC \"Eden\", domaćinu drugog od tri turnira iz serije Istarska rivijera.\\nSljedeći tjedan je na rasporedu posljednji turnir 51. izdanja Istarske rivijere, a igrat će se na terenima TK \"Opatija\".\\nVijesti HRT-a pratite na svojim pametnim telefonima i tabletima putem aplikacija za iOS i Android. Pratite nas i na društvenim mrežama Facebook, Twitter, Instagram i YouTube!\n",
       "20471  POŽALILA SE NA TWITTERU\\nAnđa Marić pobjesnila zbog birokracije: Je*** vam mater. Morala sam dokazivati da imam multiplu, ukinuli su mi doplatak\\nGlazbenica i spisateljica Anđa Marić, koja se bori s multiplom sklerozom, na društvenim je mrežama pisala o birokratskoj muci s kojom se suočava.\\n\"Iako sam imala invaliditet 80 posto 2018. godine, ove godine su mi ukinuli doplatak od 600 kuna mjesečno. Odbili su mi zahtjev za osobnu invalidninu koja je 225 eura jer im izgledam dobro pa mi valjda ne treba. Samo me treninzi i taksi koštaju mjesečno oko 3000 kuna\", napisala je na Twitteru.\\niako sam imala invaliditet 80% 2018. godine ove godine su mi ukinuli doplatak od 600 kn mjesečno. odbili su mi zahtjev za osobnu invalidninu koja je 225 € jer im izgledam dobro pa mi valjda ne treba. Samo me treninzi i taxi koštaju mjesečno oko 3000 kn— Anđa Marić (@AndjaMarics) March 16, 2023\\n\"Danas me zovu da mi je ipak odobren doplatak koji mi je ukinut prošle godine u 12. mjesecu jer sam morala doći dokazati da još uvijek imam multiplu sklerozu iako me nisu zvali na vještačenje i nisu dizali telefon i odgovarali na mail od 12. mjeseca\", nastavlja iznositi detalje na Twitteru.\\n\"I pravnik socijalne Trešnjevka mi je rekao da, sudeći po aplikaciji koju on ima, ne vidi da mi je ikada ukinut doplatak i da jer nažalost to naša država... Je*em vam mater, vi ste država, ja sam država i svi smo mi država. Tko mi kriv što sam pozitivna i ne zaslužujem pomoć i potporu\", nastavlja.\\n\"OK, ispuhala sam se, sada idemo dalje bez cendranja. Nekad i meni prekipi iako sam okorjela pozitivka. To stanje biram namjerno svaki dan iako i ja doživljavam sve što i vi, ali da mi je pažnja na onom što mi se ne sviđa – već bih davno poludjela\", napisala je Marić te se ispričala pratiteljima na trenutku očaja i brutalne iskrenosti.\\n\"‘Ispričavam se što sam svoj Twitter danas pretvorila u septičku jamu. Ljudi, dolazi nam proljeće, još samo tri menstruacije do ljeta\", zaključila je."
      ]
     },
     "execution_count": 50,
     "metadata": {},
     "output_type": "execute_result"
    }
   ],
   "source": [
    "df.iloc[[24997, 20267]][[\"body\"]]"
   ]
  },
  {
   "cell_type": "code",
   "execution_count": 51,
   "id": "559820f3",
   "metadata": {},
   "outputs": [],
   "source": [
    "df.to_csv(\"../data/textual_similarity_recent_no_dups.csv\", index=False)"
   ]
  }
 ],
 "metadata": {
  "kernelspec": {
   "display_name": "Python 3 (ipykernel)",
   "language": "python",
   "name": "python3"
  },
  "language_info": {
   "codemirror_mode": {
    "name": "ipython",
    "version": 3
   },
   "file_extension": ".py",
   "mimetype": "text/x-python",
   "name": "python",
   "nbconvert_exporter": "python",
   "pygments_lexer": "ipython3",
   "version": "3.10.10"
  }
 },
 "nbformat": 4,
 "nbformat_minor": 5
}
