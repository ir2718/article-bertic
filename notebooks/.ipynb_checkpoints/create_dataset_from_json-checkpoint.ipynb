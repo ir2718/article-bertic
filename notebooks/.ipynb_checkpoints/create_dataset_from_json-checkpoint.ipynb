{
 "cells": [
  {
   "cell_type": "code",
   "execution_count": 127,
   "id": "2da8a8a9",
   "metadata": {},
   "outputs": [],
   "source": [
    "import json\n",
    "import os\n",
    "import pandas as pd\n",
    "import numpy as np"
   ]
  },
  {
   "cell_type": "code",
   "execution_count": 128,
   "id": "5efc02fa",
   "metadata": {
    "scrolled": false
   },
   "outputs": [
    {
     "name": "stdout",
     "output_type": "stream",
     "text": [
      "['annotations_200_VERSION_1.json', 'annotations_200_VERSION_2.json', 'annotations_100_VERSION_4.json', 'annotations_200_VERSION_5.json', 'annotations_200_VERSION_6.json', 'annotations_200_VERSION_7.json'] \n",
      "\n",
      "{'id': 298, 'title': 'Potpisan je ugovor: za vrtić 1,45 milijuna eura', 'body': 'SLATINA - Grad Slatina sklopio je s Ministarstvom obrazovanja te Središnjom agencijom za financiranje i ugovaranje programa i projekata EU-a unije ugovor o dodjeli nepovratnih sredstava za projekte koji se financiraju iz Mehanizma za oporavak i otpornost. Riječ je o ugovoru za projekt \"Izgradnja i opremanje područnog objekta Dječjeg vrtića Zeko u Slatini\", vrijednom 1.452.518,42 eura, koji je potpisao gradonačelnik Denis Ostrošić. Projekt je izradio i prijavio Grad Slatina u suradnji s Gradskom razvojnom agencijom. Budući da prema pedagoškim standardima postojeća lokacija DV-a Zeko ne dopušta proširenje, njime se planira izgraditi i opremiti područni objekt na izdvojenoj lokaciji u Stublovačkoj ulici, gdje je prema urbanističkom planu omogućena izgradnja ustanova za predškolski odgoj i obrazovanje. Dodatni objekt Dječjeg vrtića Zeko s osam dnevnih boravaka, kuhinjom i sanitarnim čvorovima povećao bi broj upisnih mjesta na području Slatine za još 160 djece.\\n- Grad Slatina kreće u provedbu projekta kako bi se riješio problem nedovoljnih infrastrukturnih i materijalnih kapaciteta za djecu predškolske dobi, a njime bi se povećala dostupnost ranog i predškolskog odgoja i obrazovanja na području grada Slatine - rekao je gradonačelnik Denis Ostrošić. P.Ž.', 'portal': 'glas-slavonije.hr', 'date_published': '2023-03-19 00:00:00', 'id2': 11479939, 'title2': 'Đakovu 1,7 mil. eura za vrtiće Sjever i Vila', 'body2': 'Đakovu 1,7 mil. eura za vrtiće Sjever i Vila\\nĐAKOVO\\nUgovore o dodjeli nepovratnih sredstava za projekte koji se financiraju iz Mehanizma za oporavak i otpornost, a koji obuhvaćaju izgradnju Dječjeg vrtića Sjever i dogradnju Dječjeg vrtića Vila, u sastavu Dječjeg vrtića Đakovo, u ponedjeljak je s Ministarstvom znanosti i obrazovanja i Središnjom agencijom za financiranje i ugovaranje programa i projekata EU-a potpisao je gradonačelnik Marin Mandarić.\\nNakon što je Ministarstvo kroz Nacionalni plan oporavka i otpornosti 2021. - 2026. objavilo otvoreni poziv na dostavu \"Izgradnja, dogradnja, rekonstrukcija i opremanje predškolskih ustanova\", Poduzetnički centar Đakovo izradio je projektnu prijavu te je Gradu za izgradnju vrtića Sjever i dogradnju vrtića Vila odobren 1.700.975,51 euro nepovratno - za vrtić Sjever 726.259,21 euro te 974.716,30 eura za vrtića Vila. Ukupna vrijednost projekta izgradnje DV-a Sjever iznosi 1.844.545,96 eura. Dokumentacija za ovaj projekt spremna je i slijedi raspisivanje javne nabave. Dogradnja DV-a Vila u fazi je izrade glavnog projekta za ishođenje građevinske dozvole.\\nDječji vrtić Sjever obuhvatit će četiri dnevna boravka za predškolski odgoj i obrazovanje, što će omogućiti većem broju djece pohađanje predškolskog odgoja i obrazovanja, dok će se dogradnjom vrtića Vila izgraditi i opremiti područna vrtićka kuća sa šest dnevnih boravaka za predškolski odgoj i obrazovanje. S.Ž.', 'portal2': 'glas-slavonije.hr', 'date_published2': '2023-03-15 00:00:00', 'choice': '3', 'annotator': 1, 'annotation_id': 312, 'created_at': '2023-03-23T15:17:27.207679Z', 'updated_at': '2023-03-23T15:28:23.636930Z', 'lead_time': 133.243}\n"
     ]
    }
   ],
   "source": [
    "DIR_PATH = \"../data/sampled_data/annotations\"\n",
    "SAVE_PATH = \"../data/similarity_dataset/similarity_dataset.csv\"\n",
    "\n",
    "annotation_files = os.listdir(DIR_PATH)\n",
    "annotation_files[0], annotation_files[2] = annotation_files[2], annotation_files[0]\n",
    "annotation_files[0], annotation_files[1] = annotation_files[1], annotation_files[0]\n",
    "\n",
    "print(annotation_files,  '\\n')\n",
    "\n",
    "json_files = [\n",
    "    json.loads(open(os.path.join(DIR_PATH, a), encoding=\"utf-8\").read()) for a in annotation_files\n",
    "]\n",
    "\n",
    "print(json_files[0][0])"
   ]
  },
  {
   "cell_type": "code",
   "execution_count": 129,
   "id": "59091c22",
   "metadata": {},
   "outputs": [
    {
     "name": "stdout",
     "output_type": "stream",
     "text": [
      "Length: 1070\n",
      "\n"
     ]
    },
    {
     "data": {
      "text/plain": [
       "{'id': 115,\n",
       " 'title': 'Kutlić stiže s pjesmom “Zar svejedno je”',\n",
       " 'body': 'Marko Kutlić ovoga petka stiže na pozornicu 70. Zagrebačkog festivala s pjesmom \"Zar svejedno je\", a radi se o singlu koji je na prvo slušanje osvojio radijski eter, njegove obožavatelje, ali i samoga pjevača. Glazbu potpisuju Igor Ivanović i Marko Vojvodić, autorski tim s kojim se Marko jako dobro poznaje. \"Drago mi je da sam se na novoj pjesmi ponovno sastao s Igorom i Markom, s kojima sam radio na prvom albumu ‘U kapi tvoje ljubavi‘. Napisali su odličnu pjesmu, svidjela mi se na prvu i odmah sam se pronašao u njoj. Sretan sam što nakon dugo vremena ponovno surađujemo\", istaknuo je Kutlić.\\nTekst uz njih potpisuje Borko Morić, a objavljen je i emotivno snažan spot za singl, za koji režiju, montažu i ideju potpisuje također Igor Ivanović. Mlada i talentirana Mirna Mihelčić uz Marka ima glavnu ulogu, a riječ je o glumici koja je ove godine nominirana za Večernjakovu ružu u kategoriji Novo lice godine. T.K.',\n",
       " 'portal': 'glas-slavonije.hr',\n",
       " 'date_published': '2023-03-15 00:00:00',\n",
       " 'id2': 11476985,\n",
       " 'title2': 'Mladi hrvatski pjevač se razgolitio u novom spotu i izmjenjuje nježnosti sa šibenskom glumicom',\n",
       " 'body2': 'Marko Kutlić (27) ovoga petka stiže na pozornicu 70. Zagrebačkog festivala s pjesmom \"Zar svejedno je\", a radi se o singlu koji je na prvo slušanje osvojio radijski eter, njegove obožavatelje, ali i samoga pjevača.\\nGlazbu potpisuju Igor Ivanović i Marko Vojvodić, autorski tim s kojim se Marko jako dobro poznaje.\\n\"Drago mi je da sam se na novoj pjesmi ponovno sastao s Igorom i Markom s kojima sam radio na prvom albumu \"U kapi tvoje ljubavi\". Napisali su odličnu pjesmu, svidjela mi se na prvu i odmah sam se pronašao u njoj. Sretan sam da nakon dugo vremena ponovno surađujemo\", istaknuo je Kutlić.\\nTekst uz njih potpisuje Borko Morić, a objavljen je i emotivno snažan spot za singl, za koji režiju, montažu i ideju potpisuje također Igor Ivanović.\\nMlada i talentirana Mirna Mihelčić koja glumi u seriji \"Kumovi\" uz Marka ima glavnu ulogu.\\n\"Zar svejedno je\" još je jedan u nizu uspješnih singlova kojima je Marko ponovno dokazao da je jedan od najboljih mladih vokala u regiji. Prepoznatljiv refren i njegova sjajna interpretacija pjesmi su dali posebnu emociju, a publika će ju uskoro moći čuti i na njegovim koncertima.',\n",
       " 'portal2': 'slobodnadalmacija.hr',\n",
       " 'date_published2': '2023-03-01 00:00:00',\n",
       " 'choice': '4',\n",
       " 'annotator': 1,\n",
       " 'annotation_id': 124,\n",
       " 'created_at': '2023-03-30T07:55:37.029652Z',\n",
       " 'updated_at': '2023-03-30T07:55:37.029652Z',\n",
       " 'lead_time': 194.93}"
      ]
     },
     "execution_count": 129,
     "metadata": {},
     "output_type": "execute_result"
    }
   ],
   "source": [
    "l = []\n",
    "\n",
    "for j in json_files:\n",
    "    l.extend(j)\n",
    "    \n",
    "print(f\"Length: {len(l)}\")\n",
    "print()\n",
    "\n",
    "l[500]"
   ]
  },
  {
   "cell_type": "code",
   "execution_count": 130,
   "id": "0f8d3bc7",
   "metadata": {
    "scrolled": false
   },
   "outputs": [
    {
     "name": "stdout",
     "output_type": "stream",
     "text": [
      "Keys: dict_keys(['title', 'body', 'portal', 'date_published', 'title2', 'body2', 'portal2', 'date_published2', 'choice'])\n",
      "\n",
      "{'title': 'Potpisan je ugovor: za vrtić 1,45 milijuna eura', 'body': 'SLATINA - Grad Slatina sklopio je s Ministarstvom obrazovanja te Središnjom agencijom za financiranje i ugovaranje programa i projekata EU-a unije ugovor o dodjeli nepovratnih sredstava za projekte koji se financiraju iz Mehanizma za oporavak i otpornost. Riječ je o ugovoru za projekt \"Izgradnja i opremanje područnog objekta Dječjeg vrtića Zeko u Slatini\", vrijednom 1.452.518,42 eura, koji je potpisao gradonačelnik Denis Ostrošić. Projekt je izradio i prijavio Grad Slatina u suradnji s Gradskom razvojnom agencijom. Budući da prema pedagoškim standardima postojeća lokacija DV-a Zeko ne dopušta proširenje, njime se planira izgraditi i opremiti područni objekt na izdvojenoj lokaciji u Stublovačkoj ulici, gdje je prema urbanističkom planu omogućena izgradnja ustanova za predškolski odgoj i obrazovanje. Dodatni objekt Dječjeg vrtića Zeko s osam dnevnih boravaka, kuhinjom i sanitarnim čvorovima povećao bi broj upisnih mjesta na području Slatine za još 160 djece.\\n- Grad Slatina kreće u provedbu projekta kako bi se riješio problem nedovoljnih infrastrukturnih i materijalnih kapaciteta za djecu predškolske dobi, a njime bi se povećala dostupnost ranog i predškolskog odgoja i obrazovanja na području grada Slatine - rekao je gradonačelnik Denis Ostrošić. P.Ž.', 'portal': 'glas-slavonije.hr', 'date_published': '2023-03-19 00:00:00', 'title2': 'Đakovu 1,7 mil. eura za vrtiće Sjever i Vila', 'body2': 'Đakovu 1,7 mil. eura za vrtiće Sjever i Vila\\nĐAKOVO\\nUgovore o dodjeli nepovratnih sredstava za projekte koji se financiraju iz Mehanizma za oporavak i otpornost, a koji obuhvaćaju izgradnju Dječjeg vrtića Sjever i dogradnju Dječjeg vrtića Vila, u sastavu Dječjeg vrtića Đakovo, u ponedjeljak je s Ministarstvom znanosti i obrazovanja i Središnjom agencijom za financiranje i ugovaranje programa i projekata EU-a potpisao je gradonačelnik Marin Mandarić.\\nNakon što je Ministarstvo kroz Nacionalni plan oporavka i otpornosti 2021. - 2026. objavilo otvoreni poziv na dostavu \"Izgradnja, dogradnja, rekonstrukcija i opremanje predškolskih ustanova\", Poduzetnički centar Đakovo izradio je projektnu prijavu te je Gradu za izgradnju vrtića Sjever i dogradnju vrtića Vila odobren 1.700.975,51 euro nepovratno - za vrtić Sjever 726.259,21 euro te 974.716,30 eura za vrtića Vila. Ukupna vrijednost projekta izgradnje DV-a Sjever iznosi 1.844.545,96 eura. Dokumentacija za ovaj projekt spremna je i slijedi raspisivanje javne nabave. Dogradnja DV-a Vila u fazi je izrade glavnog projekta za ishođenje građevinske dozvole.\\nDječji vrtić Sjever obuhvatit će četiri dnevna boravka za predškolski odgoj i obrazovanje, što će omogućiti većem broju djece pohađanje predškolskog odgoja i obrazovanja, dok će se dogradnjom vrtića Vila izgraditi i opremiti područna vrtićka kuća sa šest dnevnih boravaka za predškolski odgoj i obrazovanje. S.Ž.', 'portal2': 'glas-slavonije.hr', 'date_published2': '2023-03-15 00:00:00', 'choice': '3'}\n"
     ]
    }
   ],
   "source": [
    "def remove_unimportant_columns(l):\n",
    "    unimportant_columns = [\"id\", \"id2\", \"annotator\", \"annotation_id\", \"created_at\", \"updated_at\", \"lead_time\"]\n",
    "    for i in range(len(l)):\n",
    "        l[i] = {k:l[i][k] for k in l[i].keys() if k not in unimportant_columns}\n",
    "    return l\n",
    "        \n",
    "l = remove_unimportant_columns(l)\n",
    "\n",
    "print(f\"Keys: {l[0].keys()}\")\n",
    "print()\n",
    "print(l[0])"
   ]
  },
  {
   "cell_type": "code",
   "execution_count": 131,
   "id": "47b91dbb",
   "metadata": {},
   "outputs": [
    {
     "name": "stdout",
     "output_type": "stream",
     "text": [
      "(1068, 9)\n"
     ]
    },
    {
     "data": {
      "text/html": [
       "<div>\n",
       "<style scoped>\n",
       "    .dataframe tbody tr th:only-of-type {\n",
       "        vertical-align: middle;\n",
       "    }\n",
       "\n",
       "    .dataframe tbody tr th {\n",
       "        vertical-align: top;\n",
       "    }\n",
       "\n",
       "    .dataframe thead th {\n",
       "        text-align: right;\n",
       "    }\n",
       "</style>\n",
       "<table border=\"1\" class=\"dataframe\">\n",
       "  <thead>\n",
       "    <tr style=\"text-align: right;\">\n",
       "      <th></th>\n",
       "      <th>title</th>\n",
       "      <th>body</th>\n",
       "      <th>portal</th>\n",
       "      <th>date_published</th>\n",
       "      <th>title2</th>\n",
       "      <th>body2</th>\n",
       "      <th>portal2</th>\n",
       "      <th>date_published2</th>\n",
       "      <th>choice</th>\n",
       "    </tr>\n",
       "  </thead>\n",
       "  <tbody>\n",
       "    <tr>\n",
       "      <th>0</th>\n",
       "      <td>Potpisan je ugovor: za vrtić 1,45 milijuna eura</td>\n",
       "      <td>SLATINA - Grad Slatina sklopio je s Ministarst...</td>\n",
       "      <td>glas-slavonije.hr</td>\n",
       "      <td>2023-03-19 00:00:00</td>\n",
       "      <td>Đakovu 1,7 mil. eura za vrtiće Sjever i Vila</td>\n",
       "      <td>Đakovu 1,7 mil. eura za vrtiće Sjever i Vila\\n...</td>\n",
       "      <td>glas-slavonije.hr</td>\n",
       "      <td>2023-03-15 00:00:00</td>\n",
       "      <td>3</td>\n",
       "    </tr>\n",
       "    <tr>\n",
       "      <th>1</th>\n",
       "      <td>Rešicki: Umažanke ne smijemo podcijeniti, ali ...</td>\n",
       "      <td>ŽRK OSIJEK DOMAĆIN U 18. KOLU PRVE HRL\\nRukome...</td>\n",
       "      <td>glas-slavonije.hr</td>\n",
       "      <td>2023-03-18 00:00:00</td>\n",
       "      <td>Ovo je vjerojatno najslađa kućica koju ćete ik...</td>\n",
       "      <td>Ima kupaonicu, garderobu s praonicom, kuhinju ...</td>\n",
       "      <td>jutarnji.hr</td>\n",
       "      <td>2023-02-28 00:00:00</td>\n",
       "      <td>0</td>\n",
       "    </tr>\n",
       "    <tr>\n",
       "      <th>2</th>\n",
       "      <td>Alić: Copy-paste kultura proizvela je copy-pas...</td>\n",
       "      <td>PROF. DR. SC. SEAD ALIĆ Hrvatski filozof i knj...</td>\n",
       "      <td>glas-slavonije.hr</td>\n",
       "      <td>2023-03-18 00:00:00</td>\n",
       "      <td>Orban: Treći svjetski rat? Nikad nismo bili ov...</td>\n",
       "      <td>MAĐARSKI premijer Viktor Orban je jutros na dr...</td>\n",
       "      <td>index.hr</td>\n",
       "      <td>2023-03-01 00:00:00</td>\n",
       "      <td>1</td>\n",
       "    </tr>\n",
       "    <tr>\n",
       "      <th>3</th>\n",
       "      <td>HOK pozdravlja nastavak mjera</td>\n",
       "      <td>Hrvatska obrtnička komora izražava zadovoljstv...</td>\n",
       "      <td>glas-slavonije.hr</td>\n",
       "      <td>2023-03-16 00:00:00</td>\n",
       "      <td>Hrvatska obrtnička komora: Pozdravljamo nastav...</td>\n",
       "      <td>'POKAZALI DA SU SVJESNI TEŽINE SITUACIJE'\\nHrv...</td>\n",
       "      <td>direktno.hr</td>\n",
       "      <td>2023-03-01 00:00:00</td>\n",
       "      <td>5</td>\n",
       "    </tr>\n",
       "    <tr>\n",
       "      <th>4</th>\n",
       "      <td>Hrgović: Prozivali ste me kada sam se borio sa...</td>\n",
       "      <td>Hvala mojim pratiteljima na porukama podrške n...</td>\n",
       "      <td>24sata.hr</td>\n",
       "      <td>2023-03-16 00:00:00</td>\n",
       "      <td>Bahata Sandra Benčić izvrijeđala glasače HDZ-a...</td>\n",
       "      <td>Stranka Možemo održala je izbornu skupštinu i ...</td>\n",
       "      <td>teleskop.hr</td>\n",
       "      <td>2023-03-01 00:00:00</td>\n",
       "      <td>0</td>\n",
       "    </tr>\n",
       "  </tbody>\n",
       "</table>\n",
       "</div>"
      ],
      "text/plain": [
       "                                               title  \\\n",
       "0    Potpisan je ugovor: za vrtić 1,45 milijuna eura   \n",
       "1  Rešicki: Umažanke ne smijemo podcijeniti, ali ...   \n",
       "2  Alić: Copy-paste kultura proizvela je copy-pas...   \n",
       "3                      HOK pozdravlja nastavak mjera   \n",
       "4  Hrgović: Prozivali ste me kada sam se borio sa...   \n",
       "\n",
       "                                                body             portal  \\\n",
       "0  SLATINA - Grad Slatina sklopio je s Ministarst...  glas-slavonije.hr   \n",
       "1  ŽRK OSIJEK DOMAĆIN U 18. KOLU PRVE HRL\\nRukome...  glas-slavonije.hr   \n",
       "2  PROF. DR. SC. SEAD ALIĆ Hrvatski filozof i knj...  glas-slavonije.hr   \n",
       "3  Hrvatska obrtnička komora izražava zadovoljstv...  glas-slavonije.hr   \n",
       "4  Hvala mojim pratiteljima na porukama podrške n...          24sata.hr   \n",
       "\n",
       "        date_published                                             title2  \\\n",
       "0  2023-03-19 00:00:00       Đakovu 1,7 mil. eura za vrtiće Sjever i Vila   \n",
       "1  2023-03-18 00:00:00  Ovo je vjerojatno najslađa kućica koju ćete ik...   \n",
       "2  2023-03-18 00:00:00  Orban: Treći svjetski rat? Nikad nismo bili ov...   \n",
       "3  2023-03-16 00:00:00  Hrvatska obrtnička komora: Pozdravljamo nastav...   \n",
       "4  2023-03-16 00:00:00  Bahata Sandra Benčić izvrijeđala glasače HDZ-a...   \n",
       "\n",
       "                                               body2            portal2  \\\n",
       "0  Đakovu 1,7 mil. eura za vrtiće Sjever i Vila\\n...  glas-slavonije.hr   \n",
       "1  Ima kupaonicu, garderobu s praonicom, kuhinju ...        jutarnji.hr   \n",
       "2  MAĐARSKI premijer Viktor Orban je jutros na dr...           index.hr   \n",
       "3  'POKAZALI DA SU SVJESNI TEŽINE SITUACIJE'\\nHrv...        direktno.hr   \n",
       "4  Stranka Možemo održala je izbornu skupštinu i ...        teleskop.hr   \n",
       "\n",
       "       date_published2 choice  \n",
       "0  2023-03-15 00:00:00      3  \n",
       "1  2023-02-28 00:00:00      0  \n",
       "2  2023-03-01 00:00:00      1  \n",
       "3  2023-03-01 00:00:00      5  \n",
       "4  2023-03-01 00:00:00      0  "
      ]
     },
     "execution_count": 131,
     "metadata": {},
     "output_type": "execute_result"
    }
   ],
   "source": [
    "final_dict = {k:[] for k in l[0].keys()}\n",
    "\n",
    "for l_i in l:\n",
    "    if \"choice\" in l_i.keys():\n",
    "        for k in l_i.keys():\n",
    "            final_dict[k].append(l_i[k])\n",
    "\n",
    "df = pd.DataFrame.from_dict(final_dict)\n",
    "\n",
    "print(df.shape)\n",
    "\n",
    "df.head()"
   ]
  },
  {
   "cell_type": "code",
   "execution_count": 132,
   "id": "876a2500",
   "metadata": {},
   "outputs": [],
   "source": [
    "# check for duplicates between body of first and second article\n",
    "for i, data in df.iterrows():\n",
    "    if data[\"body\"] == data[\"body2\"]:\n",
    "        print(i) "
   ]
  },
  {
   "cell_type": "code",
   "execution_count": 133,
   "id": "60b00cf9",
   "metadata": {},
   "outputs": [
    {
     "name": "stdout",
     "output_type": "stream",
     "text": [
      "(1068, 9)\n",
      "(1060, 9)\n"
     ]
    }
   ],
   "source": [
    "df.drop_duplicates(subset=\"body\", inplace=True)\n",
    "print(df.shape)\n",
    "\n",
    "df.drop_duplicates(subset=\"body2\", keep=\"first\", inplace=True)\n",
    "print(df.shape)"
   ]
  },
  {
   "cell_type": "code",
   "execution_count": 134,
   "id": "23f362c3",
   "metadata": {},
   "outputs": [],
   "source": [
    "df.to_csv(SAVE_PATH, index=False)"
   ]
  }
 ],
 "metadata": {
  "kernelspec": {
   "display_name": "Python 3 (ipykernel)",
   "language": "python",
   "name": "python3"
  },
  "language_info": {
   "codemirror_mode": {
    "name": "ipython",
    "version": 3
   },
   "file_extension": ".py",
   "mimetype": "text/x-python",
   "name": "python",
   "nbconvert_exporter": "python",
   "pygments_lexer": "ipython3",
   "version": "3.10.10"
  }
 },
 "nbformat": 4,
 "nbformat_minor": 5
}
